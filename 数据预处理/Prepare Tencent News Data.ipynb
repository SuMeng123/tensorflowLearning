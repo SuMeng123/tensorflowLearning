{
 "cells": [
  {
   "cell_type": "markdown",
   "metadata": {},
   "source": [
    "# 处理腾讯新闻数据，为article_comment模型提供数据"
   ]
  },
  {
   "cell_type": "markdown",
   "metadata": {},
   "source": [
    "1、加载train \\ test \\ dev 数据 <br>\n",
    "2、对train \\ test \\ dev 过滤掉脏数据<br>\n",
    "3、对train数据集进行正负平衡<br>\n",
    "4、对 train\\dev\\test 数据集的article、title进行分词, 得到文字版的 train\\dev\\test 数据集<br>\n",
    "5.1 根据train数据集构建词典（可选）<br>\n",
    "5.2 根据pretrain好的词向量构建词典（可选）<br>\n",
    "6、将 train, dev, test 数据转换成模型需要的id格式<br>"
   ]
  },
  {
   "cell_type": "code",
   "execution_count": 1,
   "metadata": {},
   "outputs": [
    {
     "name": "stderr",
     "output_type": "stream",
     "text": [
      "D:\\software\\Anaconda3\\envs\\tf\\lib\\site-packages\\tqdm\\autonotebook\\__init__.py:14: TqdmExperimentalWarning: Using `tqdm.autonotebook.tqdm` in notebook mode. Use `tqdm.tqdm` instead to force console mode (e.g. in jupyter console)\n",
      "  \" (e.g. in jupyter console)\", TqdmExperimentalWarning)\n"
     ]
    }
   ],
   "source": [
    "import json\n",
    "import collections\n",
    "import pickle\n",
    "\n",
    "import pandas as pd\n",
    "from tqdm.autonotebook import tqdm\n",
    "import jieba\n",
    "import os"
   ]
  },
  {
   "cell_type": "markdown",
   "metadata": {},
   "source": [
    "## 1 加载 train \\ test \\ dev 数据 \n",
    "1、发现数据中存在脏数据。 \n",
    "* 比如article==“每日更新超多有趣漫画，喜欢请关注”，“更多趣味内涵内容，敬请关注微信公众号：漫画精选集（jx2018mh）”，“文章已被原作者删除，目前无法查看。”"
   ]
  },
  {
   "cell_type": "code",
   "execution_count": 2,
   "metadata": {},
   "outputs": [],
   "source": [
    "def load_data(filename):\n",
    "    data = []\n",
    "    with open(filename, encoding='utf-8') as fin:\n",
    "        for line in fin:\n",
    "            item = json.loads(line)\n",
    "            title = item['title_es'].strip()\n",
    "            article = item['body'].strip()\n",
    "            url = item['url']\n",
    "            uid = url.split('/')[-1]\n",
    "            for comment in item['comment']:\n",
    "                comment_content = ''.join(comment[0])\n",
    "                upvote = int(comment[1])\n",
    "                data.append({\n",
    "                    'article_id': uid,\n",
    "                    'title': title,\n",
    "                    'article': article,\n",
    "                    'comment': comment_content,\n",
    "                    'upvote': upvote\n",
    "                })\n",
    "    return pd.DataFrame(data)\n",
    "\n",
    "filename_train = r'D:\\data\\comment_generation\\article_commenting_learning_comment_generation\\newdata.train.json'\n",
    "filename_dev = r'D:\\data\\comment_generation\\article_commenting_learning_comment_generation\\newdata.dev.json'\n",
    "filename_test = r'D:\\data\\comment_generation\\article_commenting_learning_comment_generation\\newdata.test.json'"
   ]
  },
  {
   "cell_type": "code",
   "execution_count": 3,
   "metadata": {},
   "outputs": [],
   "source": [
    "df_train = load_data(filename_train)\n",
    "df_dev = load_data(filename_dev)\n",
    "df_test = load_data(filename_test)"
   ]
  },
  {
   "cell_type": "code",
   "execution_count": 4,
   "metadata": {},
   "outputs": [
    {
     "name": "stdout",
     "output_type": "stream",
     "text": [
      "清洗前训练集size： 5131167\n",
      "清洗前验证集size： 133739\n",
      "清洗前测试集size： 43833\n"
     ]
    }
   ],
   "source": [
    "print(\"清洗前训练集size：\",len(df_train))\n",
    "print(\"清洗前验证集size：\",len(df_dev))\n",
    "print(\"清洗前测试集size：\",len(df_test))"
   ]
  },
  {
   "cell_type": "code",
   "execution_count": 5,
   "metadata": {},
   "outputs": [
    {
     "data": {
      "text/plain": [
       "count               5131167\n",
       "unique               167851\n",
       "top       文章已被原作者删除，目前无法查看。\n",
       "freq                 604000\n",
       "Name: article, dtype: object"
      ]
     },
     "execution_count": 5,
     "metadata": {},
     "output_type": "execute_result"
    }
   ],
   "source": [
    "df_train[\"article\"].describe()"
   ]
  },
  {
   "cell_type": "code",
   "execution_count": 6,
   "metadata": {},
   "outputs": [
    {
     "data": {
      "text/html": [
       "<div>\n",
       "<style scoped>\n",
       "    .dataframe tbody tr th:only-of-type {\n",
       "        vertical-align: middle;\n",
       "    }\n",
       "\n",
       "    .dataframe tbody tr th {\n",
       "        vertical-align: top;\n",
       "    }\n",
       "\n",
       "    .dataframe thead th {\n",
       "        text-align: right;\n",
       "    }\n",
       "</style>\n",
       "<table border=\"1\" class=\"dataframe\">\n",
       "  <thead>\n",
       "    <tr style=\"text-align: right;\">\n",
       "      <th></th>\n",
       "      <th>article</th>\n",
       "      <th>article_id</th>\n",
       "      <th>comment</th>\n",
       "      <th>title</th>\n",
       "      <th>upvote</th>\n",
       "    </tr>\n",
       "  </thead>\n",
       "  <tbody>\n",
       "    <tr>\n",
       "      <th>3313</th>\n",
       "      <td></td>\n",
       "      <td>20170419A02D6Z00</td>\n",
       "      <td>那么 多 解决办法 ， 他 却 选择 了 最 愚蠢 的 一个 。</td>\n",
       "      <td></td>\n",
       "      <td>0</td>\n",
       "    </tr>\n",
       "    <tr>\n",
       "      <th>3314</th>\n",
       "      <td></td>\n",
       "      <td>20170419A02D6Z00</td>\n",
       "      <td>超 不过 24 小时</td>\n",
       "      <td></td>\n",
       "      <td>0</td>\n",
       "    </tr>\n",
       "    <tr>\n",
       "      <th>3315</th>\n",
       "      <td></td>\n",
       "      <td>20170419A02D6Z00</td>\n",
       "      <td>那个 儿货发 的 ， 也 没个 照片 ！</td>\n",
       "      <td></td>\n",
       "      <td>0</td>\n",
       "    </tr>\n",
       "    <tr>\n",
       "      <th>3316</th>\n",
       "      <td></td>\n",
       "      <td>20170419A02D6Z00</td>\n",
       "      <td>这是 旧闻 。 案子 都 破 了 还 悬赏 缉凶 ？</td>\n",
       "      <td></td>\n",
       "      <td>0</td>\n",
       "    </tr>\n",
       "    <tr>\n",
       "      <th>3317</th>\n",
       "      <td></td>\n",
       "      <td>20170419A02D6Z00</td>\n",
       "      <td>缉拿 谁 呀 ， 你 发个 照片</td>\n",
       "      <td></td>\n",
       "      <td>0</td>\n",
       "    </tr>\n",
       "  </tbody>\n",
       "</table>\n",
       "</div>"
      ],
      "text/plain": [
       "     article        article_id                           comment title  upvote\n",
       "3313          20170419A02D6Z00  那么 多 解决办法 ， 他 却 选择 了 最 愚蠢 的 一个 。             0\n",
       "3314          20170419A02D6Z00                        超 不过 24 小时             0\n",
       "3315          20170419A02D6Z00              那个 儿货发 的 ， 也 没个 照片 ！             0\n",
       "3316          20170419A02D6Z00        这是 旧闻 。 案子 都 破 了 还 悬赏 缉凶 ？             0\n",
       "3317          20170419A02D6Z00                  缉拿 谁 呀 ， 你 发个 照片             0"
      ]
     },
     "execution_count": 6,
     "metadata": {},
     "output_type": "execute_result"
    }
   ],
   "source": [
    "df_train[df_train[\"article\"] == \"\"].head()"
   ]
  },
  {
   "cell_type": "markdown",
   "metadata": {},
   "source": [
    "##  2 过滤掉 train \\ test \\ dev 中的脏数据"
   ]
  },
  {
   "cell_type": "code",
   "execution_count": 7,
   "metadata": {},
   "outputs": [
    {
     "name": "stdout",
     "output_type": "stream",
     "text": [
      "清洗后训练集size： 4511253\n",
      "清洗后验证集size： 118665\n",
      "清洗后测试集size： 37912\n"
     ]
    }
   ],
   "source": [
    "def filter_data(df):\n",
    "    mask = ((df['article'] == \"\") | (df['article'] == 'null\\n') | (df['article'] == 'null') | (df['title'] == 'null') | (df['title'].isnull()) | (df[\"article\"] == \"更多趣味内涵内容，敬请关注微信公众号：漫画精选集（jx2018mh）\" )| (df[\"article\"] == \"每日更新超多有趣漫画，喜欢请关注\") |(df[\"article\"] == \"文章已被原作者删除，目前无法查看。\" ))\n",
    "    df = df[~mask]\n",
    "    return df\n",
    "\n",
    "cleaned_df_train = filter_data(df_train)\n",
    "cleaned_df_dev = filter_data(df_dev)\n",
    "cleaned_df_test = filter_data(df_test)\n",
    "print(\"清洗后训练集size：\",len(cleaned_df_train))\n",
    "print(\"清洗后验证集size：\",len(cleaned_df_dev))\n",
    "print(\"清洗后测试集size：\",len(cleaned_df_test))"
   ]
  },
  {
   "cell_type": "code",
   "execution_count": 8,
   "metadata": {},
   "outputs": [
    {
     "name": "stdout",
     "output_type": "stream",
     "text": [
      "就服 你 了 满屏\n"
     ]
    }
   ],
   "source": [
    "print(cleaned_df_train[\"comment\"][0])"
   ]
  },
  {
   "cell_type": "code",
   "execution_count": 9,
   "metadata": {},
   "outputs": [
    {
     "data": {
      "text/html": [
       "<div>\n",
       "<style scoped>\n",
       "    .dataframe tbody tr th:only-of-type {\n",
       "        vertical-align: middle;\n",
       "    }\n",
       "\n",
       "    .dataframe tbody tr th {\n",
       "        vertical-align: top;\n",
       "    }\n",
       "\n",
       "    .dataframe thead th {\n",
       "        text-align: right;\n",
       "    }\n",
       "</style>\n",
       "<table border=\"1\" class=\"dataframe\">\n",
       "  <thead>\n",
       "    <tr style=\"text-align: right;\">\n",
       "      <th></th>\n",
       "      <th>article</th>\n",
       "      <th>article_id</th>\n",
       "      <th>comment</th>\n",
       "      <th>title</th>\n",
       "      <th>upvote</th>\n",
       "    </tr>\n",
       "  </thead>\n",
       "  <tbody>\n",
       "  </tbody>\n",
       "</table>\n",
       "</div>"
      ],
      "text/plain": [
       "Empty DataFrame\n",
       "Columns: [article, article_id, comment, title, upvote]\n",
       "Index: []"
      ]
     },
     "execution_count": 9,
     "metadata": {},
     "output_type": "execute_result"
    }
   ],
   "source": [
    "cleaned_df_train[cleaned_df_train[\"article\"]==\"\"]"
   ]
  },
  {
   "cell_type": "code",
   "execution_count": 12,
   "metadata": {},
   "outputs": [
    {
     "data": {
      "text/plain": [
       "count                                               4511253\n",
       "unique                                               167846\n",
       "top       星座简介：白羊座（Aries）出生日期：阳历3月21日-4月19日/4月20日，黄道十二星座...\n",
       "freq                                                    345\n",
       "Name: article, dtype: object"
      ]
     },
     "execution_count": 12,
     "metadata": {},
     "output_type": "execute_result"
    }
   ],
   "source": [
    "cleaned_df_train[\"article\"].describe()"
   ]
  },
  {
   "cell_type": "markdown",
   "metadata": {},
   "source": [
    "## 3 对train数据集进行正负平衡"
   ]
  },
  {
   "cell_type": "code",
   "execution_count": 13,
   "metadata": {},
   "outputs": [
    {
     "data": {
      "application/vnd.jupyter.widget-view+json": {
       "model_id": "38a55f4acb784e0f8db3e893e50c5bea",
       "version_major": 2,
       "version_minor": 0
      },
      "text/plain": [
       "HBox(children=(IntProgress(value=0, max=168393), HTML(value='')))"
      ]
     },
     "metadata": {},
     "output_type": "display_data"
    },
    {
     "name": "stdout",
     "output_type": "stream",
     "text": [
      "\n"
     ]
    }
   ],
   "source": [
    "grouped = cleaned_df_train.groupby(['article_id'])\n",
    "\n",
    "def sample_neg(grouped_df, count):\n",
    "    neg_samples = grouped_df[grouped_df['upvote'] < 10]\n",
    "    neg_sample_len_lte_100 = neg_samples[neg_samples['comment'].str.len() <= 100]\n",
    "    neg_sample_len_gt_100 = neg_samples[neg_samples['comment'].str.len() > 100]\n",
    "    \n",
    "    if len(neg_sample_len_lte_100) >= count:\n",
    "        return neg_sample_len_lte_100.sample(n=count, random_state=1)\n",
    "    else:\n",
    "        lte_100_samples = neg_sample_len_lte_100\n",
    "        gt_100_count = min(len(neg_sample_len_gt_100), count - len(neg_sample_len_lte_100))\n",
    "        gt_100_samples = neg_sample_len_gt_100.sample(n=gt_100_count, random_state=1)\n",
    "        return pd.concat([lte_100_samples, gt_100_samples])\n",
    "\n",
    "samples = []\n",
    "for name, grouped_df in tqdm(grouped):\n",
    "    grouped_pos_df = grouped_df[grouped_df['upvote'] >= 10]\n",
    "    pos_count = len(grouped_pos_df)\n",
    "    if pos_count == 0:\n",
    "        continue\n",
    "    grouped_neg_df = sample_neg(grouped_df, pos_count)\n",
    "    samples.append(grouped_pos_df)\n",
    "    samples.append(grouped_neg_df)\n",
    "\n",
    "sampled_df_train = pd.concat(samples)"
   ]
  },
  {
   "cell_type": "markdown",
   "metadata": {},
   "source": [
    "将正负均衡后的训练集数据保存到本地，以后直接从本地读取即可"
   ]
  },
  {
   "cell_type": "code",
   "execution_count": 14,
   "metadata": {},
   "outputs": [
    {
     "name": "stdout",
     "output_type": "stream",
     "text": [
      "正负均衡后训练集的size： 707655\n"
     ]
    }
   ],
   "source": [
    "def save(df, save_to):\n",
    "    df.to_csv(save_to, sep='\\t', encoding='utf-8')\n",
    "\n",
    "def load(filename):\n",
    "    return pd.read_csv(filename, sep='\\t', encoding='utf-8')\n",
    "\n",
    "if not os.path.exists('./train_balance.csv'):\n",
    "    save(sampled_df_train, './train_balance.csv')\n",
    "# sampled_df_train = load('./train_balance.csv')\n",
    "print(\"正负均衡后训练集的size：\",len(sampled_df_train))"
   ]
  },
  {
   "cell_type": "markdown",
   "metadata": {},
   "source": [
    "## 4 对 train\\dev\\test 数据集的article、title进行分词, 得到文字版的 train\\dev\\test 数据集"
   ]
  },
  {
   "cell_type": "code",
   "execution_count": 15,
   "metadata": {},
   "outputs": [],
   "source": [
    "class Tokenizer:\n",
    "    def __init__(self):\n",
    "        self._cache = dict()\n",
    "        \n",
    "    def cut(self, text):\n",
    "        if text in self._cache:\n",
    "            return self._cache[text]\n",
    "        wb = list(jieba.cut(text))\n",
    "        wb = ' '.join(wb)\n",
    "        self._cache[text] = wb\n",
    "        return wb\n",
    "\n",
    "tokenizer = Tokenizer()\n",
    "tqdm.pandas(desc='word break:')"
   ]
  },
  {
   "cell_type": "code",
   "execution_count": 16,
   "metadata": {},
   "outputs": [
    {
     "data": {
      "application/vnd.jupyter.widget-view+json": {
       "model_id": "0457d4eab01f4dbca8fadbc6ad505d26",
       "version_major": 2,
       "version_minor": 0
      },
      "text/plain": [
       "HBox(children=(IntProgress(value=0, description='word break:', max=707655, style=ProgressStyle(description_wid…"
      ]
     },
     "metadata": {},
     "output_type": "display_data"
    },
    {
     "name": "stderr",
     "output_type": "stream",
     "text": [
      "Building prefix dict from the default dictionary ...\n",
      "Loading model from cache C:\\Users\\t-dosu\\AppData\\Local\\Temp\\jieba.cache\n",
      "Loading model cost 0.889 seconds.\n",
      "Prefix dict has been built succesfully.\n"
     ]
    },
    {
     "name": "stdout",
     "output_type": "stream",
     "text": [
      "\n"
     ]
    },
    {
     "data": {
      "application/vnd.jupyter.widget-view+json": {
       "model_id": "07ff4edbe9824ff3bc28e6796780ff17",
       "version_major": 2,
       "version_minor": 0
      },
      "text/plain": [
       "HBox(children=(IntProgress(value=0, description='word break:', max=707655, style=ProgressStyle(description_wid…"
      ]
     },
     "metadata": {},
     "output_type": "display_data"
    },
    {
     "name": "stdout",
     "output_type": "stream",
     "text": [
      "\n"
     ]
    },
    {
     "data": {
      "application/vnd.jupyter.widget-view+json": {
       "model_id": "80caa423ea9043bfac9f2efc5eb7982e",
       "version_major": 2,
       "version_minor": 0
      },
      "text/plain": [
       "HBox(children=(IntProgress(value=0, description='word break:', max=118665, style=ProgressStyle(description_wid…"
      ]
     },
     "metadata": {},
     "output_type": "display_data"
    },
    {
     "name": "stdout",
     "output_type": "stream",
     "text": [
      "\n"
     ]
    },
    {
     "name": "stderr",
     "output_type": "stream",
     "text": [
      "D:\\software\\Anaconda3\\envs\\tf\\lib\\site-packages\\ipykernel_launcher.py:5: SettingWithCopyWarning: \n",
      "A value is trying to be set on a copy of a slice from a DataFrame.\n",
      "Try using .loc[row_indexer,col_indexer] = value instead\n",
      "\n",
      "See the caveats in the documentation: http://pandas.pydata.org/pandas-docs/stable/indexing.html#indexing-view-versus-copy\n",
      "  \"\"\"\n"
     ]
    },
    {
     "data": {
      "application/vnd.jupyter.widget-view+json": {
       "model_id": "de88ac119ca741eb8709d59c36587466",
       "version_major": 2,
       "version_minor": 0
      },
      "text/plain": [
       "HBox(children=(IntProgress(value=0, description='word break:', max=118665, style=ProgressStyle(description_wid…"
      ]
     },
     "metadata": {},
     "output_type": "display_data"
    },
    {
     "name": "stdout",
     "output_type": "stream",
     "text": [
      "\n"
     ]
    },
    {
     "name": "stderr",
     "output_type": "stream",
     "text": [
      "D:\\software\\Anaconda3\\envs\\tf\\lib\\site-packages\\ipykernel_launcher.py:6: SettingWithCopyWarning: \n",
      "A value is trying to be set on a copy of a slice from a DataFrame.\n",
      "Try using .loc[row_indexer,col_indexer] = value instead\n",
      "\n",
      "See the caveats in the documentation: http://pandas.pydata.org/pandas-docs/stable/indexing.html#indexing-view-versus-copy\n",
      "  \n"
     ]
    },
    {
     "data": {
      "application/vnd.jupyter.widget-view+json": {
       "model_id": "dbc103683e6046118254db895c3b6047",
       "version_major": 2,
       "version_minor": 0
      },
      "text/plain": [
       "HBox(children=(IntProgress(value=0, description='word break:', max=37912, style=ProgressStyle(description_widt…"
      ]
     },
     "metadata": {},
     "output_type": "display_data"
    },
    {
     "name": "stdout",
     "output_type": "stream",
     "text": [
      "\n"
     ]
    },
    {
     "name": "stderr",
     "output_type": "stream",
     "text": [
      "D:\\software\\Anaconda3\\envs\\tf\\lib\\site-packages\\ipykernel_launcher.py:8: SettingWithCopyWarning: \n",
      "A value is trying to be set on a copy of a slice from a DataFrame.\n",
      "Try using .loc[row_indexer,col_indexer] = value instead\n",
      "\n",
      "See the caveats in the documentation: http://pandas.pydata.org/pandas-docs/stable/indexing.html#indexing-view-versus-copy\n",
      "  \n"
     ]
    },
    {
     "data": {
      "application/vnd.jupyter.widget-view+json": {
       "model_id": "a99f0fe4d436451daee483376a867e56",
       "version_major": 2,
       "version_minor": 0
      },
      "text/plain": [
       "HBox(children=(IntProgress(value=0, description='word break:', max=37912, style=ProgressStyle(description_widt…"
      ]
     },
     "metadata": {},
     "output_type": "display_data"
    },
    {
     "name": "stdout",
     "output_type": "stream",
     "text": [
      "\n"
     ]
    },
    {
     "name": "stderr",
     "output_type": "stream",
     "text": [
      "D:\\software\\Anaconda3\\envs\\tf\\lib\\site-packages\\ipykernel_launcher.py:9: SettingWithCopyWarning: \n",
      "A value is trying to be set on a copy of a slice from a DataFrame.\n",
      "Try using .loc[row_indexer,col_indexer] = value instead\n",
      "\n",
      "See the caveats in the documentation: http://pandas.pydata.org/pandas-docs/stable/indexing.html#indexing-view-versus-copy\n",
      "  if __name__ == '__main__':\n"
     ]
    }
   ],
   "source": [
    "# 对trian分词\n",
    "sampled_df_train['title_wb'] = sampled_df_train['title'].progress_apply(tokenizer.cut)\n",
    "sampled_df_train['article_wb'] = sampled_df_train['article'].progress_apply(tokenizer.cut)\n",
    "# 对dev分词\n",
    "cleaned_df_dev['title_wb'] = cleaned_df_dev['title'].progress_apply(tokenizer.cut)\n",
    "cleaned_df_dev['article_wb'] = cleaned_df_dev['article'].progress_apply(tokenizer.cut)\n",
    "# 对test分词\n",
    "cleaned_df_test['title_wb'] = cleaned_df_test['title'].progress_apply(tokenizer.cut)\n",
    "cleaned_df_test['article_wb'] = cleaned_df_test['article'].progress_apply(tokenizer.cut)"
   ]
  },
  {
   "cell_type": "markdown",
   "metadata": {},
   "source": [
    "## 5.1 根据train数据集构建词典（可选）"
   ]
  },
  {
   "cell_type": "code",
   "execution_count": 28,
   "metadata": {},
   "outputs": [
    {
     "data": {
      "application/vnd.jupyter.widget-view+json": {
       "model_id": "37b58ed2c93448cb823092d8ca9e48b3",
       "version_major": 2,
       "version_minor": 0
      },
      "text/plain": [
       "HBox(children=(IntProgress(value=1, bar_style='info', max=1), HTML(value='')))"
      ]
     },
     "metadata": {},
     "output_type": "display_data"
    },
    {
     "name": "stdout",
     "output_type": "stream",
     "text": [
      "\n"
     ]
    }
   ],
   "source": [
    "counter = collections.Counter()\n",
    "for title_wb, article_wb, comment_wb in tqdm(zip(sampled_df_train['title_wb'], sampled_df_train['article_wb'], sampled_df_train['comment'])):\n",
    "    for wb in [title_wb, article_wb, comment_wb]:\n",
    "        words = wb.split()\n",
    "        counter.update(words)\n",
    "counter = counter.most_common()"
   ]
  },
  {
   "cell_type": "code",
   "execution_count": 29,
   "metadata": {},
   "outputs": [],
   "source": [
    "counter_5w = counter[:50000]"
   ]
  },
  {
   "cell_type": "code",
   "execution_count": 30,
   "metadata": {},
   "outputs": [],
   "source": [
    "word_dict = dict()\n",
    "word_dict['<pad>'] = 0\n",
    "word_dict['<unk>'] = 1\n",
    "for word, count in counter:\n",
    "    if count < 20:\n",
    "        break\n",
    "    word_dict[word] = len(word_dict)\n",
    "\n",
    "with open('word_dict.pkl', 'wb') as f:\n",
    "    pickle.dump(word_dict, f)"
   ]
  },
  {
   "cell_type": "code",
   "execution_count": 31,
   "metadata": {},
   "outputs": [
    {
     "name": "stdout",
     "output_type": "stream",
     "text": [
      "词汇表的size： 246037\n"
     ]
    }
   ],
   "source": [
    "print(\"词汇表的size：\",len(word_dict))"
   ]
  },
  {
   "cell_type": "markdown",
   "metadata": {},
   "source": [
    "## 5.2 根据pretrain好的词向量构建词典（可选）"
   ]
  },
  {
   "cell_type": "code",
   "execution_count": 17,
   "metadata": {},
   "outputs": [],
   "source": [
    "from collections import defaultdict\n",
    "import numpy as np\n",
    "\n",
    "# base_path = \"D:\\\\jupyter\\\\comment_generation\\\\data\\\\\"\n",
    "base_path = \"D:\\\\data\\\\搜狗新闻word2vec\\\\\"\n",
    "# embeddingFile = \"zhwiki_2017_03.sg_50d.word2vec\"\n",
    "embeddingFile = \"corpus.vector\"\n",
    "embeddingFile = base_path + embeddingFile"
   ]
  },
  {
   "cell_type": "code",
   "execution_count": 18,
   "metadata": {},
   "outputs": [],
   "source": [
    "def load_word_dict_ms(filename):\n",
    "    \"\"\"\n",
    "    加载词向量文件\n",
    "\n",
    "    :param filename: 文件名\n",
    "    :return: embeddings列表和它对应的索引\n",
    "    \"\"\"\n",
    "    embeddings = []\n",
    "    embedding_pad = []\n",
    "    embedding_unk = []\n",
    "    word2idx = defaultdict(list)\n",
    "    with open(filename, mode=\"r\", encoding=\"utf-8\") as rf:\n",
    "        lock = True\n",
    "        for i,line in enumerate(rf):\n",
    "            if lock == True:\n",
    "                word2idx[\"<pad>\"] = 0\n",
    "                embedding_pad = np.zeros([int(line.split(\" \")[1])]).tolist()\n",
    "                embeddings.append(embedding_pad)\n",
    "                word2idx[\"<unk>\"] = 1\n",
    "                embedding_unk = np.random.randn(int(line.split(\" \")[1])).tolist()\n",
    "                embeddings.append(embedding_unk)\n",
    "                lock = False\n",
    "                continue\n",
    "            arr = line.split(\" \")\n",
    "            embedding = [float(val) for val in arr[1: -1]]\n",
    "            word2idx[arr[0]] = len(word2idx)\n",
    "            embeddings.append(embedding)\n",
    "    return embeddings, word2idx"
   ]
  },
  {
   "cell_type": "code",
   "execution_count": 19,
   "metadata": {},
   "outputs": [],
   "source": [
    "embeddings, word_dict = load_word_dict_ms(embeddingFile)"
   ]
  },
  {
   "cell_type": "code",
   "execution_count": 20,
   "metadata": {},
   "outputs": [
    {
     "name": "stdout",
     "output_type": "stream",
     "text": [
      "556192\n"
     ]
    },
    {
     "data": {
      "text/plain": [
       "2"
      ]
     },
     "execution_count": 20,
     "metadata": {},
     "output_type": "execute_result"
    }
   ],
   "source": [
    "print(len(word_dict))\n",
    "word_dict[\"，\"]"
   ]
  },
  {
   "cell_type": "code",
   "execution_count": 25,
   "metadata": {},
   "outputs": [
    {
     "data": {
      "text/plain": [
       "[1.7315808892246911,\n",
       " 0.37765695288592843,\n",
       " -0.3601463003348267,\n",
       " -0.34182457699699337,\n",
       " -0.47090463717829995,\n",
       " -0.15329251036754904,\n",
       " 0.42138661510802605,\n",
       " -0.9462890362592533,\n",
       " -2.0562647406916805,\n",
       " 1.1424566362902449,\n",
       " 0.5613777172662763,\n",
       " -0.1718175895089136,\n",
       " 0.8701803145599046,\n",
       " 1.4474447873084195,\n",
       " 0.348672320789414,\n",
       " 1.2189740975891634,\n",
       " -1.306451158124542,\n",
       " 0.5164001128889835,\n",
       " 1.7005991724558,\n",
       " 0.3704815580858835,\n",
       " 1.0786154555747505,\n",
       " -0.8126139541319054,\n",
       " 1.0190384169270421,\n",
       " -0.07714802279767083,\n",
       " -1.6823830047754855,\n",
       " 1.227803244535351,\n",
       " 1.6267391677293008,\n",
       " -0.2491568971972385,\n",
       " 1.3672430064294023,\n",
       " 0.6410397791859909,\n",
       " 0.40666851546313876,\n",
       " 0.2228956121959879,\n",
       " 0.580921025888175,\n",
       " -1.2419898499590507,\n",
       " 2.4145920267461363,\n",
       " -0.7953343716153602,\n",
       " 0.19889062405424876,\n",
       " 1.0372774363066462,\n",
       " -0.020821692591031418,\n",
       " -1.56171682418998,\n",
       " 0.7758649151517705,\n",
       " -0.05791491673606784,\n",
       " -1.2694734734702868,\n",
       " -2.4734306970745625,\n",
       " -0.6606563355303575,\n",
       " 0.8621358031443683,\n",
       " -0.965389223857228,\n",
       " -0.6837510482676185,\n",
       " 0.6036131025205391,\n",
       " -0.9142366255966873,\n",
       " -0.38101046744039546,\n",
       " 0.5180082006339999,\n",
       " 1.0448401054114658,\n",
       " 1.6547707471489588,\n",
       " -0.10259016469280294,\n",
       " -0.49066128928856867,\n",
       " -0.5140611934373309,\n",
       " -0.09669957992007765,\n",
       " -0.5580922162428645,\n",
       " 0.08725348140702607,\n",
       " 0.426304454964315,\n",
       " 0.1403924574168651,\n",
       " 1.5005254782786943,\n",
       " -0.22692709942737635,\n",
       " 0.11000068093432115,\n",
       " -1.8097228517219892,\n",
       " 0.3013048634991465,\n",
       " 0.9165272720143854,\n",
       " -0.2144426256086933,\n",
       " 0.8359113642389965,\n",
       " 0.4944336450193609,\n",
       " 0.40437919710864845,\n",
       " 0.5700561511376053,\n",
       " -0.04720131670630331,\n",
       " -0.1883029578874348,\n",
       " -0.5694695962791999,\n",
       " 1.7090936756514932,\n",
       " 1.1672058693113267,\n",
       " 2.0927198507816893,\n",
       " 0.24524337068565275,\n",
       " 0.15789927538712734,\n",
       " 0.23585101667777045,\n",
       " -0.8052279191937419,\n",
       " -0.8230455269835737,\n",
       " -2.0022397168481905,\n",
       " -0.19859971056637948,\n",
       " 1.0357368875391202,\n",
       " -2.5791282353250495,\n",
       " 0.8454225944104128,\n",
       " -0.9111250111869535,\n",
       " -0.3806422090917586,\n",
       " 0.7643392847884024,\n",
       " 0.17526981080133944,\n",
       " -0.6663169568226275,\n",
       " -1.5740241981750578,\n",
       " -1.1940397158737894,\n",
       " -0.401792836870432,\n",
       " 2.1612210452840364,\n",
       " 0.4158663161569975,\n",
       " 0.1308141946887069,\n",
       " 0.32493223800840393,\n",
       " -0.4846868383099892,\n",
       " -0.34461832897032785,\n",
       " 1.629749470390824,\n",
       " 0.7243758794152431,\n",
       " 0.708104238156618,\n",
       " -0.7982272369491015,\n",
       " 0.09911098640064639,\n",
       " 0.5236070467537521,\n",
       " -0.9254253810302839,\n",
       " 0.2971350931072085,\n",
       " 0.18600027082418535,\n",
       " -0.7143244097219513,\n",
       " -1.3601914623515912,\n",
       " -0.6855591664080942,\n",
       " 1.4615904020979342,\n",
       " -0.23182836793138906,\n",
       " 2.2465177005483907,\n",
       " -1.1254120667786676,\n",
       " 1.7399821745133939,\n",
       " 0.16101771977707782,\n",
       " -0.5055565898592339,\n",
       " -0.37618667352338686,\n",
       " -1.879631177333858,\n",
       " 1.016542465160017,\n",
       " -0.9133793046325682,\n",
       " -0.7460611223958002,\n",
       " -0.9927578927037337,\n",
       " -0.30202063196017154,\n",
       " -1.8474936149376608,\n",
       " 1.0920689382230124,\n",
       " -1.4098323429503925,\n",
       " 0.6061612400191747,\n",
       " -1.63450055747536,\n",
       " -0.4170890442183496,\n",
       " -0.0973835766164236,\n",
       " 0.33738371803356937,\n",
       " -0.46462802515105056,\n",
       " 0.09062044714067012,\n",
       " -0.7179424099687155,\n",
       " 0.7506212415690185,\n",
       " -0.5924647788836807,\n",
       " 0.6285523097216216,\n",
       " -1.4183358749172834,\n",
       " -0.44786433874564585,\n",
       " 1.0645804166017532,\n",
       " 1.2641976806024366,\n",
       " -0.538353650141109,\n",
       " 1.9944927486607846,\n",
       " -0.46390131335465123,\n",
       " -1.0154685905977558,\n",
       " 0.14063622039399096,\n",
       " -0.6674679687627811,\n",
       " -0.2880559157915268,\n",
       " 1.004932714458244,\n",
       " -1.5269402857393586,\n",
       " 2.267853170934994,\n",
       " -0.6005944450381956,\n",
       " 0.2926455582636815,\n",
       " 1.2407537060542602,\n",
       " -0.8133989675241309,\n",
       " 0.8624842134200101,\n",
       " 0.7706258341893216,\n",
       " -1.111334411670732,\n",
       " -1.2377847882212512,\n",
       " -0.12545517964477265,\n",
       " -0.8943450541853392,\n",
       " 0.23308501344975138,\n",
       " -1.170061177634347,\n",
       " -0.5818928057310592,\n",
       " 1.1179094618713068,\n",
       " 1.7036077747278844,\n",
       " -0.007881493017320843,\n",
       " -0.47313604035610296,\n",
       " 0.45288879556389156,\n",
       " -0.4947442146940105,\n",
       " -0.010573142015049702,\n",
       " 0.324298726165997,\n",
       " -0.7570224984914499,\n",
       " 0.4367501154505762,\n",
       " -0.7382856051811051,\n",
       " -1.6003880344699104,\n",
       " 1.560572523929342,\n",
       " 0.1079229283848492,\n",
       " 2.1668788838714903,\n",
       " -1.5973178786857756,\n",
       " -0.08269975784078401,\n",
       " -0.6488692957870489,\n",
       " 0.20880041993130155,\n",
       " -0.8076076525970841,\n",
       " 0.7040558003065425,\n",
       " -0.08887720080550607,\n",
       " 1.3924506722295567,\n",
       " -0.5084051853416344,\n",
       " -0.8469802201903476,\n",
       " 1.2485320330515386,\n",
       " -0.43566912098444355,\n",
       " 0.4527379132186011,\n",
       " 0.83881525991267,\n",
       " 1.4855751215468784,\n",
       " 2.4938798785774448,\n",
       " 0.9165894957576973,\n",
       " 0.0014043707739055152,\n",
       " -1.5308863241083674,\n",
       " 1.0545313781085204,\n",
       " 0.35714805001265393,\n",
       " 2.431982061153811,\n",
       " 1.4649516334501125,\n",
       " 0.4112857758677226,\n",
       " 1.2497788792069036,\n",
       " -0.6258621972691372,\n",
       " 0.769289747607896,\n",
       " 1.059791679836617,\n",
       " 0.77279978424155,\n",
       " -1.323704966603788,\n",
       " -1.3200904683559624,\n",
       " 0.827174734015774,\n",
       " 1.4003685759460525,\n",
       " 1.1558354946008718,\n",
       " -0.7883922164190772,\n",
       " 0.263152458301786,\n",
       " -0.7372435078343879,\n",
       " -0.06619992917279025,\n",
       " 0.701422870999291,\n",
       " 0.05699290817792084,\n",
       " -0.28098034733556293,\n",
       " 1.280180875622581,\n",
       " -0.9980876567412054,\n",
       " -0.7420784431777576,\n",
       " -0.22118626948312053,\n",
       " 0.18100216503078906,\n",
       " 0.48651870611745085,\n",
       " -0.05506814734573318,\n",
       " 1.4966008274954061,\n",
       " 1.1629885651868843,\n",
       " -1.1152122637882886,\n",
       " 0.06044072050498172,\n",
       " 0.6755986755329972,\n",
       " 0.8853815941823983,\n",
       " -0.4776272289382098,\n",
       " 0.044638046165339264,\n",
       " -0.8309082098129918,\n",
       " 0.3676380080023456,\n",
       " -0.032977013332778186,\n",
       " 1.1125570405219967,\n",
       " -0.1012272470103567,\n",
       " -0.49800794980165314,\n",
       " 0.08014849689351096,\n",
       " -0.687971677856871,\n",
       " 0.9359268922153076,\n",
       " -1.563072849437132,\n",
       " -1.55888931061704,\n",
       " 0.027036349979289175,\n",
       " -0.24511795981854947,\n",
       " -1.1366847866288332,\n",
       " -0.34688143015570294,\n",
       " -0.9071325872014616,\n",
       " 0.27057983950214215,\n",
       " -0.682616556542934,\n",
       " -1.0645400945111922,\n",
       " 0.12137845498037846,\n",
       " -0.9807561387952337,\n",
       " -0.6564091016986661,\n",
       " 0.09263776347763336,\n",
       " 0.4619142045936074,\n",
       " -0.07671001346136838,\n",
       " 0.0666333412274844,\n",
       " -1.173227564638964,\n",
       " -0.627584609876411,\n",
       " -0.8512453938870442,\n",
       " -0.48384831912740095,\n",
       " -0.08439922693900118,\n",
       " -0.32086297250329177,\n",
       " -0.9249990336789367,\n",
       " 0.3183582869388216,\n",
       " -0.22475790089305386,\n",
       " -2.0031938629328283,\n",
       " 0.771023422539194,\n",
       " 1.457015355440686,\n",
       " -0.8926153156776486,\n",
       " -1.7406864953433898,\n",
       " 0.5073063363650924,\n",
       " -0.706803643224303,\n",
       " 0.06871073356955217,\n",
       " -0.5126349980719761,\n",
       " -1.44657032033065,\n",
       " 0.850983968266754,\n",
       " 0.7058405218829694,\n",
       " 0.2147015146671685,\n",
       " 0.5062259422257734,\n",
       " -0.08743195756694735,\n",
       " -0.6702612876559887,\n",
       " -0.08065217791389634,\n",
       " 0.2993991217623312,\n",
       " 0.19987560309003105,\n",
       " -0.3684176914344177,\n",
       " -0.8733946489176321,\n",
       " 0.41234115910596214,\n",
       " 0.06369587448826983,\n",
       " 0.6450523906691008]"
      ]
     },
     "execution_count": 25,
     "metadata": {},
     "output_type": "execute_result"
    }
   ],
   "source": [
    "embeddings[1]"
   ]
  },
  {
   "cell_type": "markdown",
   "metadata": {},
   "source": [
    "## 6 将 train, dev, test 数据转换成模型需要的id格式"
   ]
  },
  {
   "cell_type": "code",
   "execution_count": 32,
   "metadata": {},
   "outputs": [],
   "source": [
    "def text_to_ids(word_dict, text_wb):\n",
    "    words = text_wb.split()\n",
    "    ids = []\n",
    "    unk_id = word_dict['<unk>']\n",
    "    for word in words:\n",
    "        word_id = word_dict.get(word, unk_id)\n",
    "        ids.append(word_id)\n",
    "    return ids\n",
    "\n",
    "\n",
    "def transform_data(df, save_to, inputs_length=400, outputs_length=100):\n",
    "    with open(save_to, 'w', encoding='utf-8') as fout:\n",
    "        for idx, row in tqdm(df.iterrows()):\n",
    "            title_wb = row['title_wb']\n",
    "            article_wb = row['article_wb']\n",
    "            comment_wb = row['comment']\n",
    "            label = 1 if row['upvote'] >= 10 else 0\n",
    "            title_ids = text_to_ids(word_dict, title_wb)\n",
    "            article_ids = text_to_ids(word_dict, article_wb)\n",
    "            comment_ids = text_to_ids(word_dict, comment_wb)\n",
    "            inputs = title_ids + article_ids\n",
    "            inputs = inputs[0: inputs_length]\n",
    "            inputs = ' '.join(str(it) for it in inputs)\n",
    "            targets = comment_ids[0: outputs_length]\n",
    "            targets = ' '.join(str(it) for it in targets)\n",
    "            fout.write(f'{label}\\t{inputs}\\t{targets}\\n')"
   ]
  },
  {
   "cell_type": "code",
   "execution_count": 33,
   "metadata": {},
   "outputs": [
    {
     "data": {
      "application/vnd.jupyter.widget-view+json": {
       "model_id": "40a5e6922f2a4f27b79394ed810f4ab1",
       "version_major": 2,
       "version_minor": 0
      },
      "text/plain": [
       "HBox(children=(IntProgress(value=1, bar_style='info', max=1), HTML(value='')))"
      ]
     },
     "metadata": {},
     "output_type": "display_data"
    },
    {
     "name": "stdout",
     "output_type": "stream",
     "text": [
      "\n"
     ]
    }
   ],
   "source": [
    "# 生成模型需要的训练集\n",
    "transform_data(sampled_df_train, 'train.csv')"
   ]
  },
  {
   "cell_type": "code",
   "execution_count": 34,
   "metadata": {},
   "outputs": [
    {
     "data": {
      "application/vnd.jupyter.widget-view+json": {
       "model_id": "2e96905b3a70481fb225cecaea281f52",
       "version_major": 2,
       "version_minor": 0
      },
      "text/plain": [
       "HBox(children=(IntProgress(value=1, bar_style='info', max=1), HTML(value='')))"
      ]
     },
     "metadata": {},
     "output_type": "display_data"
    },
    {
     "name": "stdout",
     "output_type": "stream",
     "text": [
      "\n"
     ]
    }
   ],
   "source": [
    "transform_data(cleaned_df_dev, 'dev.csv')"
   ]
  },
  {
   "cell_type": "code",
   "execution_count": 35,
   "metadata": {},
   "outputs": [
    {
     "data": {
      "application/vnd.jupyter.widget-view+json": {
       "model_id": "ca1de30432c447548cd5fb9c7cc376ec",
       "version_major": 2,
       "version_minor": 0
      },
      "text/plain": [
       "HBox(children=(IntProgress(value=1, bar_style='info', max=1), HTML(value='')))"
      ]
     },
     "metadata": {},
     "output_type": "display_data"
    },
    {
     "name": "stdout",
     "output_type": "stream",
     "text": [
      "\n"
     ]
    }
   ],
   "source": [
    "transform_data(cleaned_df_test, 'test.csv')"
   ]
  },
  {
   "cell_type": "markdown",
   "metadata": {},
   "source": [
    "# 测试"
   ]
  },
  {
   "cell_type": "code",
   "execution_count": 89,
   "metadata": {},
   "outputs": [
    {
     "data": {
      "text/html": [
       "<div>\n",
       "<style scoped>\n",
       "    .dataframe tbody tr th:only-of-type {\n",
       "        vertical-align: middle;\n",
       "    }\n",
       "\n",
       "    .dataframe tbody tr th {\n",
       "        vertical-align: top;\n",
       "    }\n",
       "\n",
       "    .dataframe thead th {\n",
       "        text-align: right;\n",
       "    }\n",
       "</style>\n",
       "<table border=\"1\" class=\"dataframe\">\n",
       "  <thead>\n",
       "    <tr style=\"text-align: right;\">\n",
       "      <th></th>\n",
       "      <th>cols</th>\n",
       "    </tr>\n",
       "  </thead>\n",
       "  <tbody>\n",
       "    <tr>\n",
       "      <th>0</th>\n",
       "      <td>1</td>\n",
       "    </tr>\n",
       "    <tr>\n",
       "      <th>1</th>\n",
       "      <td></td>\n",
       "    </tr>\n",
       "    <tr>\n",
       "      <th>2</th>\n",
       "      <td>3</td>\n",
       "    </tr>\n",
       "    <tr>\n",
       "      <th>3</th>\n",
       "      <td>4</td>\n",
       "    </tr>\n",
       "    <tr>\n",
       "      <th>4</th>\n",
       "      <td>5</td>\n",
       "    </tr>\n",
       "  </tbody>\n",
       "</table>\n",
       "</div>"
      ],
      "text/plain": [
       "  cols\n",
       "0    1\n",
       "1     \n",
       "2    3\n",
       "3    4\n",
       "4    5"
      ]
     },
     "execution_count": 89,
     "metadata": {},
     "output_type": "execute_result"
    }
   ],
   "source": [
    "df = pd.DataFrame([1, \"\", 3, 4, 5], columns=['cols'])\n",
    "df"
   ]
  },
  {
   "cell_type": "code",
   "execution_count": 91,
   "metadata": {},
   "outputs": [
    {
     "ename": "KeyError",
     "evalue": "0",
     "output_type": "error",
     "traceback": [
      "\u001b[1;31m---------------------------------------------------------------------------\u001b[0m",
      "\u001b[1;31mKeyError\u001b[0m                                  Traceback (most recent call last)",
      "\u001b[1;32mD:\\software\\Anaconda3\\envs\\tf\\lib\\site-packages\\pandas\\core\\indexes\\base.py\u001b[0m in \u001b[0;36mget_loc\u001b[1;34m(self, key, method, tolerance)\u001b[0m\n\u001b[0;32m   2656\u001b[0m             \u001b[1;32mtry\u001b[0m\u001b[1;33m:\u001b[0m\u001b[1;33m\u001b[0m\u001b[1;33m\u001b[0m\u001b[0m\n\u001b[1;32m-> 2657\u001b[1;33m                 \u001b[1;32mreturn\u001b[0m \u001b[0mself\u001b[0m\u001b[1;33m.\u001b[0m\u001b[0m_engine\u001b[0m\u001b[1;33m.\u001b[0m\u001b[0mget_loc\u001b[0m\u001b[1;33m(\u001b[0m\u001b[0mkey\u001b[0m\u001b[1;33m)\u001b[0m\u001b[1;33m\u001b[0m\u001b[1;33m\u001b[0m\u001b[0m\n\u001b[0m\u001b[0;32m   2658\u001b[0m             \u001b[1;32mexcept\u001b[0m \u001b[0mKeyError\u001b[0m\u001b[1;33m:\u001b[0m\u001b[1;33m\u001b[0m\u001b[1;33m\u001b[0m\u001b[0m\n",
      "\u001b[1;32mpandas/_libs/index.pyx\u001b[0m in \u001b[0;36mpandas._libs.index.IndexEngine.get_loc\u001b[1;34m()\u001b[0m\n",
      "\u001b[1;32mpandas/_libs/index.pyx\u001b[0m in \u001b[0;36mpandas._libs.index.IndexEngine.get_loc\u001b[1;34m()\u001b[0m\n",
      "\u001b[1;32mpandas/_libs/hashtable_class_helper.pxi\u001b[0m in \u001b[0;36mpandas._libs.hashtable.PyObjectHashTable.get_item\u001b[1;34m()\u001b[0m\n",
      "\u001b[1;32mpandas/_libs/hashtable_class_helper.pxi\u001b[0m in \u001b[0;36mpandas._libs.hashtable.PyObjectHashTable.get_item\u001b[1;34m()\u001b[0m\n",
      "\u001b[1;31mKeyError\u001b[0m: 0",
      "\nDuring handling of the above exception, another exception occurred:\n",
      "\u001b[1;31mKeyError\u001b[0m                                  Traceback (most recent call last)",
      "\u001b[1;32m<ipython-input-91-ad11118bc8f3>\u001b[0m in \u001b[0;36m<module>\u001b[1;34m\u001b[0m\n\u001b[1;32m----> 1\u001b[1;33m \u001b[0mdf\u001b[0m\u001b[1;33m[\u001b[0m\u001b[1;36m0\u001b[0m\u001b[1;33m]\u001b[0m\u001b[1;33m\u001b[0m\u001b[1;33m\u001b[0m\u001b[0m\n\u001b[0m",
      "\u001b[1;32mD:\\software\\Anaconda3\\envs\\tf\\lib\\site-packages\\pandas\\core\\frame.py\u001b[0m in \u001b[0;36m__getitem__\u001b[1;34m(self, key)\u001b[0m\n\u001b[0;32m   2925\u001b[0m             \u001b[1;32mif\u001b[0m \u001b[0mself\u001b[0m\u001b[1;33m.\u001b[0m\u001b[0mcolumns\u001b[0m\u001b[1;33m.\u001b[0m\u001b[0mnlevels\u001b[0m \u001b[1;33m>\u001b[0m \u001b[1;36m1\u001b[0m\u001b[1;33m:\u001b[0m\u001b[1;33m\u001b[0m\u001b[1;33m\u001b[0m\u001b[0m\n\u001b[0;32m   2926\u001b[0m                 \u001b[1;32mreturn\u001b[0m \u001b[0mself\u001b[0m\u001b[1;33m.\u001b[0m\u001b[0m_getitem_multilevel\u001b[0m\u001b[1;33m(\u001b[0m\u001b[0mkey\u001b[0m\u001b[1;33m)\u001b[0m\u001b[1;33m\u001b[0m\u001b[1;33m\u001b[0m\u001b[0m\n\u001b[1;32m-> 2927\u001b[1;33m             \u001b[0mindexer\u001b[0m \u001b[1;33m=\u001b[0m \u001b[0mself\u001b[0m\u001b[1;33m.\u001b[0m\u001b[0mcolumns\u001b[0m\u001b[1;33m.\u001b[0m\u001b[0mget_loc\u001b[0m\u001b[1;33m(\u001b[0m\u001b[0mkey\u001b[0m\u001b[1;33m)\u001b[0m\u001b[1;33m\u001b[0m\u001b[1;33m\u001b[0m\u001b[0m\n\u001b[0m\u001b[0;32m   2928\u001b[0m             \u001b[1;32mif\u001b[0m \u001b[0mis_integer\u001b[0m\u001b[1;33m(\u001b[0m\u001b[0mindexer\u001b[0m\u001b[1;33m)\u001b[0m\u001b[1;33m:\u001b[0m\u001b[1;33m\u001b[0m\u001b[1;33m\u001b[0m\u001b[0m\n\u001b[0;32m   2929\u001b[0m                 \u001b[0mindexer\u001b[0m \u001b[1;33m=\u001b[0m \u001b[1;33m[\u001b[0m\u001b[0mindexer\u001b[0m\u001b[1;33m]\u001b[0m\u001b[1;33m\u001b[0m\u001b[1;33m\u001b[0m\u001b[0m\n",
      "\u001b[1;32mD:\\software\\Anaconda3\\envs\\tf\\lib\\site-packages\\pandas\\core\\indexes\\base.py\u001b[0m in \u001b[0;36mget_loc\u001b[1;34m(self, key, method, tolerance)\u001b[0m\n\u001b[0;32m   2657\u001b[0m                 \u001b[1;32mreturn\u001b[0m \u001b[0mself\u001b[0m\u001b[1;33m.\u001b[0m\u001b[0m_engine\u001b[0m\u001b[1;33m.\u001b[0m\u001b[0mget_loc\u001b[0m\u001b[1;33m(\u001b[0m\u001b[0mkey\u001b[0m\u001b[1;33m)\u001b[0m\u001b[1;33m\u001b[0m\u001b[1;33m\u001b[0m\u001b[0m\n\u001b[0;32m   2658\u001b[0m             \u001b[1;32mexcept\u001b[0m \u001b[0mKeyError\u001b[0m\u001b[1;33m:\u001b[0m\u001b[1;33m\u001b[0m\u001b[1;33m\u001b[0m\u001b[0m\n\u001b[1;32m-> 2659\u001b[1;33m                 \u001b[1;32mreturn\u001b[0m \u001b[0mself\u001b[0m\u001b[1;33m.\u001b[0m\u001b[0m_engine\u001b[0m\u001b[1;33m.\u001b[0m\u001b[0mget_loc\u001b[0m\u001b[1;33m(\u001b[0m\u001b[0mself\u001b[0m\u001b[1;33m.\u001b[0m\u001b[0m_maybe_cast_indexer\u001b[0m\u001b[1;33m(\u001b[0m\u001b[0mkey\u001b[0m\u001b[1;33m)\u001b[0m\u001b[1;33m)\u001b[0m\u001b[1;33m\u001b[0m\u001b[1;33m\u001b[0m\u001b[0m\n\u001b[0m\u001b[0;32m   2660\u001b[0m         \u001b[0mindexer\u001b[0m \u001b[1;33m=\u001b[0m \u001b[0mself\u001b[0m\u001b[1;33m.\u001b[0m\u001b[0mget_indexer\u001b[0m\u001b[1;33m(\u001b[0m\u001b[1;33m[\u001b[0m\u001b[0mkey\u001b[0m\u001b[1;33m]\u001b[0m\u001b[1;33m,\u001b[0m \u001b[0mmethod\u001b[0m\u001b[1;33m=\u001b[0m\u001b[0mmethod\u001b[0m\u001b[1;33m,\u001b[0m \u001b[0mtolerance\u001b[0m\u001b[1;33m=\u001b[0m\u001b[0mtolerance\u001b[0m\u001b[1;33m)\u001b[0m\u001b[1;33m\u001b[0m\u001b[1;33m\u001b[0m\u001b[0m\n\u001b[0;32m   2661\u001b[0m         \u001b[1;32mif\u001b[0m \u001b[0mindexer\u001b[0m\u001b[1;33m.\u001b[0m\u001b[0mndim\u001b[0m \u001b[1;33m>\u001b[0m \u001b[1;36m1\u001b[0m \u001b[1;32mor\u001b[0m \u001b[0mindexer\u001b[0m\u001b[1;33m.\u001b[0m\u001b[0msize\u001b[0m \u001b[1;33m>\u001b[0m \u001b[1;36m1\u001b[0m\u001b[1;33m:\u001b[0m\u001b[1;33m\u001b[0m\u001b[1;33m\u001b[0m\u001b[0m\n",
      "\u001b[1;32mpandas/_libs/index.pyx\u001b[0m in \u001b[0;36mpandas._libs.index.IndexEngine.get_loc\u001b[1;34m()\u001b[0m\n",
      "\u001b[1;32mpandas/_libs/index.pyx\u001b[0m in \u001b[0;36mpandas._libs.index.IndexEngine.get_loc\u001b[1;34m()\u001b[0m\n",
      "\u001b[1;32mpandas/_libs/hashtable_class_helper.pxi\u001b[0m in \u001b[0;36mpandas._libs.hashtable.PyObjectHashTable.get_item\u001b[1;34m()\u001b[0m\n",
      "\u001b[1;32mpandas/_libs/hashtable_class_helper.pxi\u001b[0m in \u001b[0;36mpandas._libs.hashtable.PyObjectHashTable.get_item\u001b[1;34m()\u001b[0m\n",
      "\u001b[1;31mKeyError\u001b[0m: 0"
     ]
    }
   ],
   "source": [
    "df[0]"
   ]
  },
  {
   "cell_type": "code",
   "execution_count": null,
   "metadata": {},
   "outputs": [],
   "source": [
    "def load_data(filename):\n",
    "    data = []\n",
    "    with open(filename, encoding='utf-8') as fin:\n",
    "        for line in fin:\n",
    "            item = json.loads(line)\n",
    "            title = item['title_es'].strip()\n",
    "            article = item['body'].strip()\n",
    "            url = item['url']\n",
    "            uid = url.split('/')[-1]\n",
    "            for comment in item['comment']:\n",
    "                comment_content = ''.join(comment[0])\n",
    "                upvote = int(comment[1])\n",
    "                data.append({\n",
    "                    'article_id': uid,\n",
    "                    'title': title,\n",
    "                    'article': article,\n",
    "                    'comment': comment_content,\n",
    "                    'upvote': upvote\n",
    "                })\n",
    "    return pd.DataFrame(data)\n",
    "\n",
    "filename_train = r'D:\\data\\comment_generation\\article_commenting_learning_comment_generation\\newdata.train.json'"
   ]
  },
  {
   "cell_type": "code",
   "execution_count": 106,
   "metadata": {},
   "outputs": [],
   "source": [
    "su_test_train = load_data(r'D:\\data\\comment_generation\\article_commenting_learning_comment_generation\\cleaned_corpus\\newdata.train.cleaned.json')"
   ]
  },
  {
   "cell_type": "code",
   "execution_count": null,
   "metadata": {},
   "outputs": [],
   "source": []
  },
  {
   "cell_type": "code",
   "execution_count": 116,
   "metadata": {},
   "outputs": [
    {
     "data": {
      "application/vnd.jupyter.widget-view+json": {
       "model_id": "5df0c261e1854105b519307c52d7dda6",
       "version_major": 2,
       "version_minor": 0
      },
      "text/plain": [
       "HBox(children=(IntProgress(value=0, max=4434), HTML(value='')))"
      ]
     },
     "metadata": {},
     "output_type": "display_data"
    }
   ],
   "source": [
    "su_grouped = cleaned_df_dev.groupby(['article_id'])\n",
    "\n",
    "def sample_random_neg(grouped,name,su_grouped_df,count):\n",
    "    import random\n",
    "    names = []\n",
    "    samples_neg = []\n",
    "    count_name = count\n",
    "    while(len(names)==0):\n",
    "        if len(grouped.groups.keys())>count_name:\n",
    "            names = random.sample(grouped.groups.keys(), count_name)\n",
    "            if name in names:\n",
    "                names.remove(name)\n",
    "        else:\n",
    "            count_name = len(grouped.groups.keys())- 1\n",
    "            \n",
    "    article = su_grouped_df.iat[0,0]\n",
    "    article_id = su_grouped_df.iat[0,1]\n",
    "    title = su_grouped_df.iat[0,3]\n",
    "    upvote = 1\n",
    "    title_wb = su_grouped_df.iat[0,5]\n",
    "    article_wb = su_grouped_df.iat[0,6]\n",
    "    for n in names:\n",
    "        temp = grouped.get_group(n).sample(n=1, random_state=1)\n",
    "        temp[\"article\"] = article\n",
    "        temp[\"article_id\"] = article_id\n",
    "        temp[\"title\"] = title\n",
    "        temp[\"upvote\"] = upvote\n",
    "        temp[\"title_wb\"] = title_wb\n",
    "        temp[\"article_wb\"] = article_wb\n",
    "        temp[\"comment\"] = \"false\"+temp[\"comment\"]\n",
    "        samples_neg.append(temp)\n",
    "    return pd.concat(samples_neg)\n",
    "\n",
    "su_samples = []\n",
    "for su_name, su_grouped_df in tqdm(su_grouped):\n",
    "    su_grouped_pos_df = su_grouped_df[su_grouped_df['upvote'] >= 10]\n",
    "    su_pos_count = len(su_grouped_pos_df)\n",
    "    if su_pos_count == 0:\n",
    "        continue\n",
    "    su_grouped_neg_df = sample_random_neg(su_grouped,su_name,su_grouped_df, su_pos_count)\n",
    "    su_samples.append(su_grouped_pos_df)\n",
    "    su_samples.append(su_grouped_neg_df)\n",
    "\n",
    "su_sampled_df_train = pd.concat(su_samples)"
   ]
  },
  {
   "cell_type": "code",
   "execution_count": 106,
   "metadata": {},
   "outputs": [
    {
     "data": {
      "text/plain": [
       "pandas.core.frame.DataFrame"
      ]
     },
     "execution_count": 106,
     "metadata": {},
     "output_type": "execute_result"
    }
   ],
   "source": [
    "type(su_sampled_df_train)"
   ]
  },
  {
   "cell_type": "code",
   "execution_count": 117,
   "metadata": {},
   "outputs": [
    {
     "data": {
      "text/plain": [
       "dict_keys(['20170314A02JSF00', '20170316A07MJN00', '20170328A06AYP00', '20170403A046MQ00', '20170403A065D300', '20170407A01NQ000', '20170407A038G300', '20170407A03E1X00', '20170407A0A1MN00', '20170407A0BA5X00', '20170408A03UW400', '20170408A03X3I00', '20170408A066U600', '20170410A00C2A00', '20170410A0385Y00', '20170410A04GYK00', '20170410A068MJ00', '20170410A0ARPQ00', '20170411A08HCH00', '20170412A02QA300', '20170412A02TI400', '20170412A04SY600', '20170412A05JSG00', '20170412A07TC600', '20170412A08AXD00', '20170412A096GP00', '20170412A0C5JG00', '20170412A0CH5400', '20170412A0CI5W00', '20170412A0CMSU00', '20170412G0C52200', '20170413A02A1R00', '20170413A04KJF00', '20170413A05IDH00', '20170413A06L3M00', '20170413A071AH00', '20170413A079DZ00', '20170413A08DX600', '20170413A08IWY00', '20170413A0ANWB00', '20170413A0C8AA00', '20170414A01BB000', '20170414A01EPH00', '20170414A01P3T00', '20170414A01VJ700', '20170414A024FQ00', '20170414A02EPQ00', '20170414A02ZV900', '20170414A04ZPW00', '20170414A05OHD00', '20170414A061X200', '20170414A06OTP00', '20170414A079LM00', '20170414A07LCX00', '20170414A0APVD00', '20170414A0ARM300', '20170414A0B5Z400', '20170414A0BPH700', '20170414A0BYND00', '20170414A0C0RI00', '20170414C0BX8T00', '20170414G0B0VY00', '20170415A00Z1M00', '20170415A01MF900', '20170415A020IL00', '20170415A023NR00', '20170415A02OK700', '20170415A02PQC00', '20170415A02TDW00', '20170415A031D300', '20170415A032RX00', '20170415A034Y600', '20170415A03WLD00', '20170415A04X0V00', '20170415A05CFN00', '20170415A05CKZ00', '20170415A0630T00', '20170415A066LI00', '20170415A06MJ200', '20170415A06S3N00', '20170415I01J9700', '20170415I045P000', '20170416A009XP00', '20170416A00F3U00', '20170416A00HW900', '20170416A00WJI00', '20170416A01GK800', '20170416A01H9Q00', '20170416A01I6F00', '20170416A01NLQ00', '20170416A028CW00', '20170416A02AN000', '20170416A02HW500', '20170416A02W8F00', '20170416A03JLO00', '20170416A03PRM00', '20170416A046WX00', '20170416A04FI300', '20170416A04KDX00', '20170416A04XMP00', '20170416A05AP200', '20170416A05C1600', '20170416A05VOK00', '20170416A06DX200', '20170416A06KYH00', '20170416A06LLS00', '20170416A06YN600', '20170416A06ZBP00', '20170416A0701U00', '20170416A0709J00', '20170416C036I500', '20170417A00AW700', '20170417A013E800', '20170417A01OXJ00', '20170417A01VS800', '20170417A01WK300', '20170417A02IXN00', '20170417A03AZI00', '20170417A03TBH00', '20170417A04JA100', '20170417A052PD00', '20170417A064GL00', '20170417A0695K00', '20170417A06SVO00', '20170417A0770F00', '20170417A08WMA00', '20170417A099HV00', '20170417A0ABTH00', '20170417A0ARUF00', '20170417A0B33R00', '20170417A0B4EY00', '20170417A0B9Q400', '20170417A0BBB300', '20170417A0BH6A00', '20170417C00LUJ00', '20170417C01QNG00', '20170417I00GSK00', '20170417I00HH300', '20170418A0003K00', '20170418A002H900', '20170418A007IG00', '20170418A01OJZ00', '20170418A0220000', '20170418A02UI900', '20170418A0382L00', '20170418A03CO300', '20170418A05C2Y00', '20170418A05WGI00', '20170418A06DD300', '20170418A06QMA00', '20170418A071G600', '20170418A0733800', '20170418A07P5R00', '20170418A08HW100', '20170418A0956N00', '20170418A095BR00', '20170418A09S4F00', '20170418A0A05M00', '20170418A0A8CT00', '20170418A0AFXC00', '20170418A0BL2C00', '20170418A0BQUQ00', '20170418C03VAC00', '20170419A00EFQ00', '20170419A00Z5G00', '20170419A00ZS600', '20170419A01E8H00', '20170419A01VSA00', '20170419A0262300', '20170419A027XD00', '20170419A02PAI00', '20170419A02WUF00', '20170419A037CL00', '20170419A03GCS00', '20170419A040LU00', '20170419A047Z200', '20170419A04B9800', '20170419A05BCJ00', '20170419A05CPB00', '20170419A05S2N00', '20170419A07VZC00', '20170419A08JRB00', '20170419A0A9Z000', '20170419A0AKIU00', '20170419A0B25I00', '20170419A0BBP400', '20170419A0BEDW00', '20170419A0BQBK00', '20170419A0C42D00', '20170419A0C8P500', '20170419C03O2100', '20170419C054T500', '20170419C065B600', '20170420A00HCV00', '20170420A01TG900', '20170420A02EJ800', '20170420A02LBE00', '20170420A03RGR00', '20170420A04I9P00', '20170420A06G0Z00', '20170420A06H4V00', '20170420A06R5X00', '20170420A073GH00', '20170420A07LNR00', '20170420A080OW00', '20170420A08PW700', '20170420A09B4C00', '20170420A09IVA00', '20170420A09W0I00', '20170420A0ABTJ00', '20170420A0AG9K00', '20170420A0AQL700', '20170420A0B2TY00', '20170420A0B5UV00', '20170420A0BJ7Y00', '20170420A0BJER00', '20170420A0BU8H00', '20170420A0BX7X00', '20170420A0C71W00', '20170420A0C7TC00', '20170421A000CF00', '20170421A003QM00', '20170421A00E9V00', '20170421A00UKC00', '20170421A01GAZ00', '20170421A01LWJ00', '20170421A027V700', '20170421A02GJW00', '20170421A02RL700', '20170421A02XI000', '20170421A03FNH00', '20170421A03HIC00', '20170421A03QWB00', '20170421A041M300', '20170421A04G7300', '20170421A04IVQ00', '20170421A04U0W00', '20170421A04V6F00', '20170421A06OTI00', '20170421A06X3400', '20170421A06XSW00', '20170421A08RIK00', '20170421A08X2L00', '20170421A097HJ00', '20170421A09OTP00', '20170421A0AMZB00', '20170421A0BC2000', '20170421A0BEY900', '20170421A0BHQJ00', '20170421C04FFD00', '20170421G07ZV300', '20170422A00IR200', '20170422A00ZQS00', '20170422A01EQB00', '20170422A01LTU00', '20170422A03B7900', '20170422A03DPX00', '20170422A03L4700', '20170422A048YK00', '20170422A04RS700', '20170422A05S8K00', '20170422A05X6O00', '20170422A0615200', '20170422A06A6X00', '20170422A06JB500', '20170422A06P3Z00', '20170422A06T4X00', '20170422A06VRZ00', '20170422A0718000', '20170422A071HV00', '20170422A0789P00', '20170422A07D9B00', '20170422A07GQQ00', '20170423A00QR500', '20170423A00R6Q00', '20170423A00UUV00', '20170423A011B700', '20170423A01ZZC00', '20170423A023UU00', '20170423A02DKN00', '20170423A02NUL00', '20170423A02TSY00', '20170423A046FF00', '20170423A048OH00', '20170423A04DPK00', '20170423A04LF100', '20170423A04P9S00', '20170423A052XA00', '20170423A058ML00', '20170423A05LUI00', '20170423A05RUD00', '20170423A06DB700', '20170423A06MDC00', '20170423A06RHE00', '20170423A06VCX00', '20170423E00FJR00', '20170424A00KKZ00', '20170424A00ZB700', '20170424A013CI00', '20170424A01MT000', '20170424A01OP200', '20170424A0223Y00', '20170424A029YZ00', '20170424A02L1M00', '20170424A03KPW00', '20170424A045N400', '20170424A04HY000', '20170424A04TSY00', '20170424A05D1400', '20170424A05HKC00', '20170424A067JF00', '20170424A06QO800', '20170424A077TF00', '20170424A079DY00', '20170424A07JTU00', '20170424A07XTP00', '20170424A07XWB00', '20170424A08FDN00', '20170424A08GJQ00', '20170424A08NUT00', '20170424A09CAH00', '20170424A09IKB00', '20170424A0A1EW00', '20170424A0ACBL00', '20170424A0AXG500', '20170424A0BJCI00', '20170424C026QC00', '20170424G0A18U00', '20170425A0125U00', '20170425A01F1600', '20170425A01W2000', '20170425A02B6V00', '20170425A02R7C00', '20170425A03M3F00', '20170425A05C9Q00', '20170425A05DBS00', '20170425A05K5H00', '20170425A05Q3800', '20170425A05TYQ00', '20170425A06KXS00', '20170425A06US800', '20170425A072BX00', '20170425A08D6Z00', '20170425A08UUV00', '20170425A0A1L300', '20170425A0A40Y00', '20170425A0AMV000', '20170425A0BNPQ00', '20170425A0BQX300', '20170426A000JG00', '20170426A003CG00', '20170426A0084O00', '20170426A008E000', '20170426A00BDP00', '20170426A00IK800', '20170426A015Y600', '20170426A01GF400', '20170426A01ZTM00', '20170426A021LV00', '20170426A029O700', '20170426A02J4J00', '20170426A02X8Q00', '20170426A048VF00', '20170426A04QNB00', '20170426A04X9900', '20170426A05AG300', '20170426A05RT400', '20170426A061BW00', '20170426A066HD00', '20170426A07GKT00', '20170426A07KFX00', '20170426A0861900', '20170426A0924E00', '20170426A09TBD00', '20170426A0ACQL00', '20170426A0AUES00', '20170426A0BF0S00', '20170426A0BIRP00', '20170426C0412200', '20170426C04Q4Z00', '20170427A006CZ00', '20170427A00INU00', '20170427A00UOL00', '20170427A00XKO00', '20170427A02SWO00', '20170427A032UU00', '20170427A034HX00', '20170427A04A9900', '20170427A04G1200', '20170427A051YF00', '20170427A0569100', '20170427A058NZ00', '20170427A05N2900', '20170427A061D300', '20170427A06CJV00', '20170427A06G0C00', '20170427A06J8I00', '20170427A07GLS00', '20170427A07GZL00', '20170427A07MXP00', '20170427A08LR900', '20170427A08QU800', '20170427A09PQZ00', '20170427A09Q3L00', '20170427A0A7WS00', '20170427A0AKN600', '20170427A0AYQ500', '20170427A0AZH200', '20170427A0B2IW00', '20170427A0B2JS00', '20170427A0B5YO00', '20170427C05G0N00', '20170428A016DF00', '20170428A016PQ00', '20170428A01NR300', '20170428A02D8X00', '20170428A02LXH00', '20170428A02V9A00', '20170428A032WM00', '20170428A040IQ00', '20170428A0429C00', '20170428A044WB00', '20170428A04QCY00', '20170428A050U300', '20170428A057GL00', '20170428A05SE400', '20170428A05YVC00', '20170428A060FI00', '20170428A06MIV00', '20170428A06UTL00', '20170428A0759S00', '20170428A08PT500', '20170428A097Q700', '20170428A09ZOP00', '20170428A0A31T00', '20170428A0A8YH00', '20170428A0ACKR00', '20170428A0ADJN00', '20170428A0AGAV00', '20170428A0ATMR00', '20170428A0ATYK00', '20170428A0AWIO00', '20170428A0AYIR00', '20170428G0AQVF00', '20170429A00R1Q00', '20170429A00RBI00', '20170429A00SGY00', '20170429A010OS00', '20170429A01T9T00', '20170429A02B6E00', '20170429A02OGD00', '20170429A02QZQ00', '20170429A02U1D00', '20170429A02VWJ00', '20170429A038HM00', '20170429A03EQ100', '20170429A04CD900', '20170429A04DP300', '20170429A04EZ600', '20170429A04QSS00', '20170429A04VY700', '20170429A04XP500', '20170429A04YKJ00', '20170429A0568800', '20170429A05NRO00', '20170429A05OXF00', '20170429A05P8G00', '20170429A05T7Q00', '20170429A05V2V00', '20170429A067B900', '20170429A06AQ700', '20170429A06U4X00', '20170429C01EHT00', '20170429C04D2E00', '20170429G04U5H00', '20170430A004D700', '20170430A007HC00', '20170430A008SL00', '20170430A00CRU00', '20170430A02JFA00', '20170430A02LCN00', '20170430A03KN900', '20170430A045KN00', '20170430A04D1400', '20170430A04G6Q00', '20170430A04GK800', '20170430A04J5R00', '20170430A04NI000', '20170430A04ST000', '20170430A04TGJ00', '20170430A0535Z00', '20170430A055V800', '20170430A05DQT00', '20170430A0620G00', '20170501A004CX00', '20170501A0072300', '20170501A00TOZ00', '20170501A00VYR00', '20170501A01INE00', '20170501A01J9000', '20170501A01R9I00', '20170501A01TVB00', '20170501A01VJC00', '20170501A01XES00', '20170501A01YPU00', '20170501A022VU00', '20170501A02M6R00', '20170501A03EJL00', '20170501A03TVG00', '20170501A03WGJ00', '20170501A0462C00', '20170501A04FR300', '20170501A04T9O00', '20170501A04U5300', '20170501A04Y7V00', '20170501A054ZC00', '20170501A05KHN00', '20170501A05L6M00', '20170501A05VK500', '20170501A05WNB00', '20170502A00JGC00', '20170502A00JNN00', '20170502A00LEJ00', '20170502A01FDH00', '20170502A01RE800', '20170502A01YZU00', '20170502A0240Q00', '20170502A02EZ900', '20170502A02TE200', '20170502A03MUU00', '20170502A04Q0E00', '20170502A04Y4J00', '20170502A05Y8W00', '20170502A061EK00', '20170502A064CL00', '20170502A06DX400', '20170502A07AK800', '20170502A07NSQ00', '20170502A07YOP00', '20170502A08HFX00', '20170502A08N9M00', '20170502A08S4200', '20170502A08Y1X00', '20170502A09KFA00', '20170502A09N7F00', '20170502A0A1R600', '20170502H08DJ200', '20170503A00WHM00', '20170503A0145K00', '20170503A01L5C00', '20170503A01TJC00', '20170503A0262B00', '20170503A02EJ600', '20170503A02N0K00', '20170503A039ZV00', '20170503A03AHW00', '20170503A03KWZ00', '20170503A048H200', '20170503A054D600', '20170503A0586B00', '20170503A05N0D00', '20170503A0636600', '20170503A06R4S00', '20170503A06UK100', '20170503A071TA00', '20170503A07WY200', '20170503A08Z2800', '20170503A09M3S00', '20170503A09NX700', '20170503A09Y8D00', '20170503A0A7DV00', '20170503A0ADZ800', '20170503A0AJS100', '20170503A0AKK100', '20170503A0AQTP00', '20170503A0AZUG00', '20170503A0B25U00', '20170503C07JAO00', '20170503C082L500', '20170503H051Y300', '20170504A001W200', '20170504A00KU900', '20170504A00XOV00', '20170504A01E0K00', '20170504A01EJL00', '20170504A01PCG00', '20170504A027FB00', '20170504A02Y8700', '20170504A0306800', '20170504A0338F00', '20170504A0340C00', '20170504A03MCZ00', '20170504A047QF00', '20170504A04JSK00', '20170504A04ZGJ00', '20170504A055HJ00', '20170504A0560300', '20170504A0590500', '20170504A05K9Z00', '20170504A05MSR00', '20170504A05P5D00', '20170504A05Q1U00', '20170504A05S9100', '20170504A05TVM00', '20170504A0622J00', '20170504A06LMP00', '20170504A06YY700', '20170504A07F3300', '20170504A07IOR00', '20170504A07XZI00', '20170504A092Z100', '20170504A0931B00', '20170504A09EX500', '20170504A09IRB00', '20170504A0A5QA00', '20170504A0ACU300', '20170504A0AHDU00', '20170504A0AMCY00', '20170505A002W200', '20170505A00F8S00', '20170505A00K3U00', '20170505A00K6K00', '20170505A00ULK00', '20170505A0195R00', '20170505A01BJ200', '20170505A01D4Q00', '20170505A01D8S00', '20170505A01HIH00', '20170505A01MFD00', '20170505A01SSY00', '20170505A022LS00', '20170505A02CHP00', '20170505A02QTH00', '20170505A02SPU00', '20170505A032R700', '20170505A03CMU00', '20170505A03JKH00', '20170505A03LI100', '20170505A03M3V00', '20170505A03Q0J00', '20170505A04C1000', '20170505A04DXS00', '20170505A059RC00', '20170505A05AUI00', '20170505A05S9W00', '20170505A05Y8T00', '20170505A06XM100', '20170505A07A9X00', '20170505A07R7D00', '20170505A07S6S00', '20170505A089PK00', '20170505A08DPO00', '20170505A08FDC00', '20170505A08INJ00', '20170505A08J2Y00', '20170505A093NE00', '20170506A0079W00', '20170506A00LBT00', '20170506A00Q5400', '20170506A0104500', '20170506A012WU00', '20170506A016SU00', '20170506A01CWY00', '20170506A01KFD00', '20170506A01O3P00', '20170506A01O7E00', '20170506A01OC700', '20170506A01QU200', '20170506A01X2300', '20170506A0203D00', '20170506A025F400', '20170506A02C9100', '20170506A02ZXJ00', '20170506A0303Q00', '20170506A035ED00', '20170506A0399S00', '20170506A0465F00', '20170506A046JB00', '20170506A04V8K00', '20170506A05VBJ00', '20170506A06B0M00', '20170506A06J0H00', '20170506A06LQN00', '20170507A006K300', '20170507A0092D00', '20170507A0092T00', '20170507A00AN600', '20170507A00DVS00', '20170507A00Y5700', '20170507A0110T00', '20170507A014M500', '20170507A01CFD00', '20170507A01DHB00', '20170507A01IEZ00', '20170507A01ISH00', '20170507A01IY900', '20170507A01T8W00', '20170507A020SQ00', '20170507A027DH00', '20170507A02NT700', '20170507A02OKW00', '20170507A03FK800', '20170507A03SD200', '20170507A03ZY400', '20170507A049HG00', '20170507A0514T00', '20170507A0520U00', '20170507A053XV00', '20170507A0562800', '20170507A056PK00', '20170507A05GD200', '20170507A05W7100', '20170507H01DHA00', '20170508A0069K00', '20170508A00OXY00', '20170508A00UIO00', '20170508A00YG400', '20170508A0312500', '20170508A031HM00', '20170508A0353X00', '20170508A03K8M00', '20170525A05PA200', '20170529A03GV400', '20170529A03JN600', '20170529A043CE00', '20170529A0540600', '20170530A013M700', '20170530A026TK00', '20170530A03FFO00', '20170530A058X700', '20170530A05JR000', '20170530A063U200', '20170531A00JJW00', '20170531A00N6C00', '20170531A014J800', '20170531A01LL300', '20170531A01ORX00', '20170531A02OAE00', '20170531A02OH100', '20170531A03DM500', '20170531A03K8900', '20170531A03RYA00', '20170531A03VEU00', '20170531A04NW300', '20170531A04QUB00', '20170531A055CP00', '20170531A05RBF00', '20170531A05W0A00', '20170531A05X5P00', '20170531A060XW00', '20170531A06FJB00', '20170531A06GJF00', '20170531A06J9B00', '20170531A06KUX00', '20170531A06P5X00', '20170531A071YU00', '20170531A079OQ00', '20170531A07D9V00', '20170531A0831C00', '20170531A08KB900', '20170531A0910700', '20170531A093SW00', '20170531A0962300', '20170531A09DJX00', '20170531A09FCY00', '20170531A09M6N00', '20170531A0A00T00', '20170531A0A50C00', '20170531A0A87V00', '20170531A0ABZQ00', '20170531A0AG9S00', '20170601A00B4100', '20170601A00CNH00', '20170601A00GK400', '20170601A00KHM00', '20170601A00MVO00', '20170601A00RV400', '20170601A0139D00', '20170601A01B4W00', '20170601A033IS00', '20170601A03DVL00', '20170601A03M9800', '20170601A03T1700', '20170601A04KYB00', '20170601A04LD300', '20170601A04MMM00', '20170601A051BP00', '20170601A05A6300', '20170601A05A8500', '20170601A05OKQ00', '20170601A05PO100', '20170601A05RML00', '20170601A06A3P00', '20170601A06MAY00', '20170601A07VOX00', '20170601A08VRD00', '20170601A09MFV00', '20170601A09UWM00', '20170601A0B5AJ00', '20170601A0B6D700', '20170601A0B9VI00', '20170601C023CA00', '20170601C03ACR00', '20170602A01G8S00', '20170602A02I5J00', '20170602A02Q0E00', '20170602A02Q0H00', '20170602A02W4W00', '20170602A0387S00', '20170602A03DDG00', '20170602A03S1V00', '20170602A051WO00', '20170602A05P4D00', '20170602A05W4N00', '20170602A06CK200', '20170602A07K5500', '20170602A07SPZ00', '20170602A081Z000', '20170602A085IF00', '20170602A086UK00', '20170602A09CIY00', '20170602A0AG7T00', '20170602A0ATAK00', '20170602A0B18Z00', '20170602A0B2NG00', '20170602A0BKS600', '20170602A0BR7J00', '20170602C06IAB00', '20170602G01M8O00', '20170602G0BE3L00', '20170603A00Z3Q00', '20170603A01NSV00', '20170603A01TK600', '20170603A028X800', '20170603A029J400', '20170603A02H0400', '20170603A031SW00', '20170603A03I8S00', '20170603A03NJW00', '20170603A03UD500', '20170603A03YPZ00', '20170603A04FQO00', '20170603A04LCO00', '20170603A04QV800', '20170603A04V4D00', '20170603A04YTX00', '20170603A056G300', '20170603A05S6S00', '20170603A068OT00', '20170603A06C9F00', '20170603A06DQZ00', '20170603A06PFM00', '20170603A06YIC00', '20170603A072S400', '20170603A07B0800', '20170603A07L7P00', '20170604A009VI00', '20170604A00BQD00', '20170604A00K2R00', '20170604A00U5X00', '20170604A015U600', '20170604A01LEK00', '20170604A027IU00', '20170604A02DHP00', '20170604A02HJX00', '20170604A02U1M00', '20170604A033G800', '20170604A03L6D00', '20170604A05NLD00', '20170604A05QI800', '20170604A05TET00', '20170604A05Z9500', '20170604A066WK00', '20170604C007XX00', '20170604C05LD800', '20170605A0051E00', '20170605A00B7J00', '20170605A0126N00', '20170605A01VAN00', '20170605A01Y5800', '20170605A02Z4L00', '20170605A032HR00', '20170605A035AA00', '20170605A03DIH00', '20170605A040DK00', '20170605A0454R00', '20170605A04PF300', '20170605A04Y5R00', '20170605A057AC00', '20170605A058RZ00', '20170605A05KFG00', '20170605A05QFJ00', '20170605A05V4E00', '20170605A05W6M00', '20170605A068VL00', '20170605A06LMH00', '20170605A07BQK00', '20170605A07D6R00', '20170605A07JKF00', '20170605A07O6C00', '20170605A07U6R00', '20170605A094HX00', '20170605A09AMI00', '20170605A09M5300', '20170605A09UW700', '20170605A0A24J00', '20170605A0AJXE00', '20170605A0AVE600', '20170605A0AX4V00', '20170605A0B41V00', '20170606A002IJ00', '20170606A005I900', '20170606A008N300', '20170606A00M2V00', '20170606A00Y1300', '20170606A00Y6900', '20170606A012DS00', '20170606A012Y200', '20170606A013HV00', '20170606A01PF600', '20170606A02IF300', '20170606A02ROJ00', '20170606A03K0F00', '20170606A04AGB00', '20170606A051ZX00', '20170606A05CK000', '20170606A0669A00', '20170606A06YV100', '20170606A07A4300', '20170606A07CJW00', '20170606A07KNG00', '20170606A082G900', '20170606A082JA00', '20170606A08BMU00', '20170606A09CIG00', '20170606A09GS300', '20170606A09RQ200', '20170606A0AEZ900', '20170606A0APKW00', '20170606A0B5YN00', '20170606A0BTKN00', '20170606A0BVSJ00', '20170606A0BWPO00', '20170607A00TO200', '20170607A00WDL00', '20170607A01KLI00', '20170607A01OON00', '20170607A01RMI00', '20170607A02AIT00', '20170607A02FZ900', '20170607A036O200', '20170607A03BA800', '20170607A03FT300', '20170607A03OU700', '20170607A03TF500', '20170607A03XOO00', '20170607A03ZQ300', '20170607A0400700', '20170607A043LO00', '20170607A04GF700', '20170607A04P0300', '20170607A04P4W00', '20170607A04QZW00', '20170607A05TXB00', '20170607A05U3U00', '20170607A060J900', '20170607A063TO00', '20170607A0651G00', '20170607A06GNJ00', '20170607A06OPD00', '20170607A06SKM00', '20170607A06SN000', '20170607A06XMA00', '20170607A07NWA00', '20170607A0849300', '20170607A089SR00', '20170607A089YT00', '20170607A08YAK00', '20170607A08ZAK00', '20170607A09I4J00', '20170607A09UKS00', '20170607A0AXCM00', '20170607A0BBE400', '20170607A0BT5U00', '20170607A0BUD800', '20170608A02E7000', '20170608A02N1600', '20170608A02TTS00', '20170608A02UE400', '20170608A02VW100', '20170608A031V800', '20170608A03DP400', '20170608A03FJT00', '20170608A03XTA00', '20170608A04CAK00', '20170608A04N5O00', '20170608A04NZ100', '20170608A052OJ00', '20170608A057JY00', '20170608A05AH800', '20170608A05LOL00', '20170608A05QB100', '20170608A0692300', '20170608A06ARH00', '20170608A06DSU00', '20170608A06DX700', '20170608A06IWN00', '20170608A06PXL00', '20170608A06SCM00', '20170608A07BUJ00', '20170608A07CBU00', '20170608A07F3J00', '20170608A07MTZ00', '20170608A07OC900', '20170608A07SR000', '20170608A08E8500', '20170608A08I1700', '20170608A08MU000', '20170608A0907N00', '20170608A0931Y00', '20170608A09GMG00', '20170608A09K2I00', '20170608A0A0WK00', '20170608A0A5VO00', '20170608A0AIDN00', '20170608A0AIYN00', '20170608A0AOD000', '20170608A0BFJT00', '20170609A000V500', '20170609A008SP00', '20170609A00FO200', '20170609A00KKT00', '20170609A00P7C00', '20170609A00URV00', '20170609A00VKQ00', '20170609A00W5C00', '20170609A00WM600', '20170609A0100Z00', '20170609A01VZ900', '20170609A023H000', '20170609A02BL800', '20170609A02GDM00', '20170609A03C3H00', '20170609A03VLN00', '20170609A0450B00', '20170609A048SI00', '20170609A04SPR00', '20170609A04XKB00', '20170609A05CSM00', '20170609A05POO00', '20170609A05YPT00', '20170609A06QX300', '20170609A06WUH00', '20170609A07KD300', '20170609A07WS200', '20170609A09Y5C00', '20170609A0A9RW00', '20170609A0ADVQ00', '20170609A0AL1900', '20170609A0AVAV00', '20170609A0B3AU00', '20170609A0B81V00', '20170609C075X300', '20170609G03P4L00', '20170609G03ZQ400', '20170609G0B8Z200', '20170610A002SN00', '20170610A003OQ00', '20170610A00XSH00', '20170610A01EKB00', '20170610A01ONX00', '20170610A01TS000', '20170610A01Z5000', '20170610A021LY00', '20170610A02HXX00', '20170610A02MG400', '20170610A02VTD00', '20170610A0302700', '20170610A039IE00', '20170610A03D6C00', '20170610A03HOP00', '20170610A03L9T00', '20170610A03MXA00', '20170610A049E600', '20170610A04HBU00', '20170610A04S3100', '20170610A052JK00', '20170610A054WB00', '20170610A05CNJ00', '20170610A05DU900', '20170610A05G1D00', '20170610A05TNR00', '20170610A05YTZ00', '20170610A06JHT00', '20170610A06KOL00', '20170610A06R0D00', '20170610A06SOS00', '20170610A06ZDN00', '20170610A07I3O00', '20170610A07MFA00', '20170611A0063V00', '20170611A00ESZ00', '20170611A00IJI00', '20170611A00P4X00', '20170611A00QVN00', '20170611A00SSH00', '20170611A01OED00', '20170611A01OOJ00', '20170611A020GL00', '20170611A02A2Y00', '20170611A02L0100', '20170611A02P3S00', '20170611A02RIZ00', '20170611A02UER00', '20170611A034YQ00', '20170611A0350D00', '20170611A03CMJ00', '20170611A03G4Q00', '20170611A03HC900', '20170611A03J0400', '20170611A03PX000', '20170611A043KD00', '20170611A04UVO00', '20170611A05YHI00', '20170611A06DHW00', '20170611A06KDZ00', '20170611A06QH600', '20170612A00F4H00', '20170612A00RY200', '20170612A00XTO00', '20170612A013ET00', '20170612A01BXN00', '20170612A01TW500', '20170612A01WTW00', '20170612A02D0100', '20170612A02J0W00', '20170612A02LIY00', '20170612A02QNO00', '20170612A030G900', '20170612A0327Z00', '20170612A03OXH00', '20170612A03PP700', '20170612A03WEY00', '20170612A04I8C00', '20170612A04Q3B00', '20170612A04QAR00', '20170612A05DHX00', '20170612A05SW700', '20170612A05YTX00', '20170612A068EZ00', '20170612A06I2300', '20170612A06XUP00', '20170612A07KM600', '20170612A07Y6D00', '20170612A08KT700', '20170612A09GMP00', '20170612A09XRT00', '20170612A0A3Y900', '20170612A0A4RE00', '20170612A0AEHS00', '20170612A0ANZJ00', '20170612C042VH00', '20170613A002YO00', '20170613A008PI00', '20170613A00AXW00', '20170613A00HT400', '20170613A01UBK00', '20170613A023UY00', '20170613A02MVZ00', '20170613A02YNM00', '20170613A030E100', '20170613A0332O00', '20170613A03HP900', '20170613A03TJ500', '20170613A04Q0B00', '20170613A04QKV00', '20170613A052M500', '20170613A05J1900', '20170613A05YW800', '20170613A06YP400', '20170613A071T600', '20170613A07E1700', '20170613A07ORA00', '20170613A07R7700', '20170613A07W2S00', '20170613A07XYN00', '20170613A08G0Y00', '20170613A091P800', '20170613A098K300', '20170613A09DI300', '20170613A09S8S00', '20170613A0A1QA00', '20170613A0AA7G00', '20170613A0AQ4N00', '20170613A0AQCP00', '20170613C07GD400', '20170613G085G500', '20170614A0017Q00', '20170614A004VM00', '20170614A00BKM00', '20170614A00GME00', '20170614A00QCJ00', '20170614A01E1N00', '20170614A01MSW00', '20170614A01SGV00', '20170614A03AM300', '20170614A03CZU00', '20170614A03YUD00', '20170614A040T100', '20170614A0453000', '20170614A04M5U00', '20170614A04O7H00', '20170614A04O7K00', '20170614A04QDE00', '20170614A04TOZ00', '20170614A051I400', '20170614A053TN00', '20170614A0596V00', '20170614A05MBK00', '20170614A05USQ00', '20170614A05X3X00', '20170614A05ZUQ00', '20170614A064DD00', '20170614A066FB00', '20170614A0677F00', '20170614A08OGP00', '20170614A08VJN00', '20170614A08YM800', '20170614A090CZ00', '20170614A092FD00', '20170614A093JY00', '20170614A09PU900', '20170614A0A9NR00', '20170614A0ABYU00', '20170614A0AE5R00', '20170614G08SHM00', '20170615A00RXU00', '20170615A00Z4M00', '20170615A015MA00', '20170615A01JO200', '20170615A01KOF00', '20170615A01ME800', '20170615A01O8B00', '20170615A01QLY00', '20170615A01U4Y00', '20170615A02CF800', '20170615A02TBM00', '20170615A02XA500', '20170615A0361B00', '20170615A037Q800', '20170615A039EP00', '20170615A03DM700', '20170615A03HOG00', '20170615A03XJZ00', '20170615A043CP00', '20170615A0488100', '20170615A05FDK00', '20170615A05FXI00', '20170615A05NQH00', '20170615A05UD300', '20170615A06FZ700', '20170615A06GTZ00', '20170615A077CE00', '20170615A07TPX00', '20170615A07U7H00', '20170615A082ZI00', '20170615A089D400', '20170615A08HXM00', '20170615A08Y8G00', '20170615A09M8N00', '20170615A09TNZ00', '20170615A09V6E00', '20170615A0AEGU00', '20170615A0AHAF00', '20170615A0AIIH00', '20170615A0AKQN00', '20170615G05B2O00', '20170616A0067J00', '20170616A00B4X00', '20170616A01DX200', '20170616A01NK600', '20170616A02YJL00', '20170616A02YPX00', '20170616A02ZX200', '20170616A031NS00', '20170616A03JT800', '20170616A03N3O00', '20170616A047QS00', '20170616A04FGU00', '20170616A04HLW00', '20170616A04J9D00', '20170616A04NOO00', '20170616A04WKM00', '20170616A04ZSB00', '20170616A0582G00', '20170616A0595W00', '20170616A05ETS00', '20170616A05KGT00', '20170616A06DKN00', '20170616A071HD00', '20170616A07BL300', '20170616A0850Y00', '20170616A08CE400', '20170616A08G5D00', '20170616A08OQ200', '20170616A08XYQ00', '20170616A09SUK00', '20170616A09UDR00', '20170616A09WVN00', '20170616A0A11D00', '20170616A0A53A00', '20170616A0AB1M00', '20170616A0ALOO00', '20170617A008V000', '20170617A00NES00', '20170617A00WHU00', '20170617A00Y8L00', '20170617A00Z8A00', '20170617A010JK00', '20170617A010W900', '20170617A01EWO00', '20170617A01QO200', '20170617A01SE900', '20170617A025C400', '20170617A02UZ300', '20170617A02YTN00', '20170617A032IR00', '20170617A03JUQ00', '20170617A03K2400', '20170617A03SO600', '20170617A03Z1J00', '20170617A03ZAT00', '20170617A049BM00', '20170617A04K5P00', '20170617A050AH00', '20170617A0552Z00', '20170617A05EDJ00', '20170617A05NQ700', '20170617A066D800', '20170617A06T4N00', '20170617A075P500', '20170617A07A2N00', '20170617A07DAD00', '20170617C01OOM00', '20170618A005OG00', '20170618A00BO200', '20170618A00CMI00', '20170618A0107600', '20170618A01AL100', '20170618A01D1P00', '20170618A021P500', '20170618A021WO00', '20170618A0253U00', '20170618A02QB100', '20170618A03I1W00', '20170618A03KHH00', '20170618A03N1T00', '20170618A03NEY00', '20170618A03VH900', '20170618A04BPO00', '20170618A04XFN00', '20170618A04YY400', '20170618A04ZDN00', '20170618A05MOH00', '20170618A05ZAC00', '20170618A0600G00', '20170618A064S800', '20170618A0667Z00', '20170618A067KW00', '20170618A06C4U00', '20170618A06DXI00', '20170618A06FZW00', '20170618A06OJR00', '20170618C053DH00', '20170619A00F4J00', '20170619A00LEG00', '20170619A00QOP00', '20170619A00T6I00', '20170619A00ZWW00', '20170619A01JT100', '20170619A01O9Q00', '20170619A01PCH00', '20170619A01T5Q00', '20170619A0220T00', '20170619A025S400', '20170619A027PZ00', '20170619A029X600', '20170619A02F6I00', '20170619A03EBD00', '20170619A03G4S00', '20170619A03MGA00', '20170619A03TDN00', '20170619A03U4S00', '20170619A03XAJ00', '20170619A048NY00', '20170619A049O700', '20170619A049SE00', '20170619A04B3M00', '20170619A04JRL00', '20170619A04T0B00', '20170619A04WRT00', '20170619A04XCI00', '20170619A053PI00', '20170619A05AZM00', '20170619A05FP400', '20170619A05TUO00', '20170619A067HR00', '20170619A06VO100', '20170619A06XMZ00', '20170619A070SA00', '20170619A08CZ400', '20170619A08QIP00', '20170619A08RWN00', '20170619A08VRZ00', '20170619A08W2W00', '20170619A0975R00', '20170619A099LY00', '20170619A09WR100', '20170619A0A1A500', '20170619A0A3SP00', '20170619A0A8D800', '20170619A0A8QC00', '20170619A0A9R500', '20170619A0AC3M00', '20170619G033YE00', '20170620A0008N00', '20170620A00BE500', '20170620A00RVU00', '20170620A01FCA00', '20170620A01U2O00', '20170620A01V3400', '20170620A02L0F00', '20170620A02NVJ00', '20170620A032UF00', '20170620A03PJT00', '20170620A04BEX00', '20170620A04F8L00', '20170620A04L9100', '20170620A04NWG00', '20170620A04XWP00', '20170620A0587A00', '20170620A05BVO00', '20170620A05D7600', '20170620A05DJF00', '20170620A05R4500', '20170620A06AL100', '20170620A06C8500', '20170620A06LFM00', '20170620A06Q7300', '20170620A07OVA00', '20170620A080RV00', '20170620A0883F00', '20170620A089NB00', '20170620A08ZYK00', '20170620A099XX00', '20170620A09CW400', '20170620A09KKB00', '20170620A09LBA00', '20170620A0A1TZ00', '20170620A0AJX700', '20170620A0AOUK00', '20170620G03C3I00', '20170620G09P2E00', '20170621A00ZXT00', '20170621A0127J00', '20170621A015ID00', '20170621A016W500', '20170621A01UX300', '20170621A030EB00', '20170621A036G900', '20170621A038U300', '20170621A03H9200', '20170621A03U2F00', '20170621A0453N00', '20170621A04TMY00', '20170621A04UZC00', '20170621A05BP700', '20170621A05O3V00', '20170621A06DG200', '20170621A073ZJ00', '20170621A07S3A00', '20170621A07Y5800', '20170621A08E8I00', '20170621A08P4000', '20170621A08XDV00', '20170621A095LO00', '20170621A09H6Z00', '20170621A09HGT00', '20170621A09OB200', '20170621A0ACXS00', '20170621A0ADY500', '20170621A0AG0W00', '20170621A0AOOT00', '20170621A0AQVN00', '20170622A0082K00', '20170622A0082M00', '20170622A00OLF00', '20170622A00PWJ00', '20170622A00RLX00', '20170622A01HLF00', '20170622A01TLO00', '20170622A01TXN00', '20170622A02KKK00', '20170622A0330X00', '20170622A03EXU00', '20170622A040QZ00', '20170622A04E9B00', '20170622A053ZU00', '20170622A0555000', '20170622A066OS00', '20170622A06UNP00', '20170622A086VZ00', '20170622A08COZ00', '20170622A0944V00', '20170622A09FB000', '20170622A09GSR00', '20170622A09P0C00', '20170622A0AGUF00', '20170622A0ALNR00', '20170623A00WIJ00', '20170623A01TNR00', '20170623A01XO600', '20170623A0269C00', '20170623A02PLB00', '20170623A02UDW00', '20170623A032R800', '20170623A03WMN00', '20170623A04IGI00', '20170623A04T3400', '20170623A04Z5400', '20170623A055YL00', '20170623A05A7500', '20170623A05WD200', '20170623A06HZD00', '20170623A080QU00', '20170623A08M3900', '20170623A098TA00', '20170623A09EO300', '20170623A09TG000', '20170623A09ZLY00', '20170623A0A8ND00', '20170623A0AHH700', '20170623A0AHJ400', '20170623A0ALHI00', '20170623C0555M00', '20170624A0000700', '20170624A00F3F00', '20170624A0140Y00', '20170624A01E3C00', '20170624A0225400', '20170624A025O300', '20170624A029KI00', '20170624A02KA600', '20170624A02NUE00', '20170624A02S2P00', '20170624A030P300', '20170624A031N500', '20170624A0359K00', '20170624A03E0400', '20170624A03E8N00', '20170624A042NC00', '20170624A043C400', '20170624A04U7C00', '20170624A051HQ00', '20170624A05N5Q00', '20170624A05PMJ00', '20170624A060V600', '20170624A06IB800', '20170624A06XII00', '20170624A070F200', '20170624A07CDD00', '20170624C00MR600', '20170624G06BNO00', '20170625A01XAJ00', '20170625A022D800', '20170625A026C700', '20170625A02J1100', '20170625A02JVX00', '20170625A02JYL00', '20170625A02XPK00', '20170625A03O4D00', '20170625A04JDP00', '20170625A04N6Q00', '20170625A05SAT00', '20170625A060SW00', '20170626A014ZJ00', '20170626A01YRC00', '20170626A03PY000', '20170626A03WM500', '20170626A06PYC00', '20170626G0046000', '20170627A000KY00', '20170627A00KNU00', '20170627A0101200', '20170627A0229S00', '20170627A02POO00', '20170628A04SUN00', '20170629A00NBE00', '20170629A0239A00', '20170629A07AZE00', '20170629A07LOX00', '20170629A09QNU00', '20170629A0A4KA00', '20170630A03EUQ00', '20170630A03ORD00', '20170630A06AD500', '20170630A06MMZ00', '20170630A0851H00', '20170630A099CW00', '20170701A01GU100', '20170701A02PP300', '20170701A03WCL00', '20170701A05C1700', '20170701A0672700', '20170701A073A500', '20170702A0084S00', '20170702A01IZA00', '20170702A02FK400', '20170702A02L6I00', '20170702A0302700', '20170702A04EPN00', '20170702A04R0100', '20170702A06A9D00', '20170703A01JGX00', '20170703A048EU00', '20170704A00D7U00', '20170704A06QFU00', '20170705A01UGU00', '20170705A0263S00', '20170705A026XJ00', '20170705A04SJG00', '20170705A067NO00', '20170705A0RLK700', '20170705A0RSP400', '20170705A0TEVT00', '20170706A01YDD00', '20170706A03QUW00', '20170706A03R5A00', '20170706A06H2X00', '20170706A07IWF00', '20170706A09V5Y00', '20170707A008V300', '20170707A0364200', '20170707A04UW800', '20170707A05KAF00', '20170707A06NZS00', '20170707A092EG00', '20170707A09KE800', '20170708A01IKY00', '20170708A02NFH00', '20170708A036HA00', '20170708A04SDY00', '20170708A05MZ600', '20170708A06XMN00', '20170708A06XYJ00', '20170709A00X1Y00', '20170709A018KY00', '20170709A01LXQ00', '20170709A04MJJ00', '20170710A000BF00', '20170710A015KQ00', '20170710A03SY000', '20170710A04LXL00', '20170710A08T1400', '20170710A0927R00', '20170710A09F3P00', '20170711A00SVH00', '20170711A00UYN00', '20170711A02G0C00', '20170711A050WB00', '20170712A0253B00', '20170712A03CBX00', '20170712A0ANPY00', '20170713A00RGM00', '20170713A04XFJ00', '20170713A05K9100', '20170713A07FDB00', '20170713A08CI800', '20170713A08EVV00', '20170713A08QJP00', '20170713A09NMT00', '20170714A02ICL00', '20170714A045CZ00', '20170714A04XK200', '20170714A05SU000', '20170714A05UDR00', '20170714A07L5300', '20170714A088AA00', '20170714A088OI00', '20170714A09P9N00', '20170714A0A59600', '20170715A03P6C00', '20170715A03U2H00', '20170715A05VZC00', '20170715A06GZP00', '20170715A07FJ200', '20170716A01ZID00', '20170716A03KDO00', '20170716A03Q9300', '20170716A05ODF00', '20170716A064L700', '20170717A07W9T00', '20170717A08LKH00', '20170718A00M4O00', '20170718A048FM00', '20170718A04EW400', '20170718A04MSZ00', '20170719A02P2000', '20170719A03BDU00', '20170719A03J4T00', '20170719A07LZ200', '20170719A09AUL00', '20170719A09K1I00', '20170720A004QI00', '20170720A01WFK00', '20170720A020KA00', '20170720A02OSY00', '20170720A04YER00', '20170720A05H9O00', '20170721A04MPZ00', '20170721D010KW00', '20170722A01BHS00', '20170722A03K6L00', '20170722A0401300', '20170722A061YW00', '20170722A078RO00', '20170722C044OY00', '20170723A00GO600', '20170723A00IOP00', '20170723A04W4Q00', '20170723A05J0Z00', '20170723A05S6S00', '20170723A067NJ00', '20170724A002W000', '20170724A01MGJ00', '20170724A023IG00', '20170724A036L400', '20170724A05DV500', '20170724A068FY00', '20170724A06ASF00', '20170724A06R5L00', '20170724A07BPH00', '20170724A08QH600', '20170725A020X600', '20170725A073BO00', '20170725A07LMY00', '20170725A09IWX00', '20170725A09UKZ00', '20170725A0AGSI00', '20170726A00W9P00', '20170726A03VF700', '20170726A03VQ400', '20170726A04FRD00', '20170726A0A0OO00', '20170727A04DDW00', '20170727A04DNT00', '20170727A04EU900', '20170727A04YK000', '20170727A07JHH00', '20170727A07MQU00', '20170728A00ZQC00', '20170728A022PB00', '20170728A024XK00', '20170728A02FS200', '20170728A09N3O00', '20170728A0AF9500', '20170729A00X9J00', '20170729A018IX00', '20170729A01ZZ900', '20170729A026JJ00', '20170729A04LVV00', '20170730A01JYN00', '20170730A02C1F00', '20170730A02O1F00', '20170730A035OE00', '20170730A03R1N00', '20170730A04OD100', '20170731A00DWG00', '20170731A034RR00', '20170731A0350S00', '20170731A03WFL00', '20170731A05THI00', '20170731A060FG00', '20170731A07JZG00', '20170731A082V100', '20170731A09DVE00', '20170801A013CZ00', '20170801A035NM00', '20170801A0790Z00', '20170801A09FT400', '20170802A02PBD00', '20170802A03WVM00', '20170802A044CX00', '20170802A05PY700', '20170802A0867P00', '20170802A0939700', '20170802A09L9800', '20170802A0A6KB00', '20170802A0AJ8U00', '20170802A0AL0P00', '20170802A0AT7B00', '20170802A0AUDK00', '20170803A00PN100', '20170803A032ZJ00', '20170803A035DH00', '20170803A039HN00', '20170803A0959A00', '20170803A095B900', '20170803A0ALRK00', '20170804A00ONT00', '20170804A011M100', '20170804A02TP900', '20170804A02WMZ00', '20170804A03KRS00', '20170804A07QGL00', '20170804A09GH800', '20170805A01CF900', '20170805A01IIZ00', '20170805A0215L00', '20170805C031FC00', '20170806A00FSA00', '20170806A01D5E00', '20170806A02ZUN00', '20170806A06G5D00', '20170807A02QUI00', '20170807A02XBJ00', '20170807A05F5F00', '20170807A0725A00', '20170808A02IDN00', '20170808A03CBI00', '20170808A05BA700', '20170808A068H600', '20170808A08END00', '20170808G03FBL00', '20170809A03SP200', '20170809A05OJ500', '20170809A067RR00', '20170809A06APG00', '20170809A0APOK00', '20170810A00B0V00', '20170810A0110G00', '20170810A03NOV00', '20170810A044CM00', '20170810A05J1100', '20170810A06O5Y00', '20170810A08RJW00', '20170810A0ATEP00', '20170811A011M700', '20170811A04YBZ00', '20170811A07OGF00', '20170811A07WJJ00', '20170812A035YA00', '20170812A05EP400', '20170812A07JZY00', '20170812A07S8600', '20170813A017BD00', '20170813A0257L00', '20170813A06C3H00', '20170814A00X7F00', '20170814A00Z1V00', '20170814A03BJV00', '20170814A06R6M00', '20170814A079IS00', '20170814A09IQ600', '20170815A027GF00', '20170815A03PFG00', '20170815A04C1I00', '20170815A056NV00', '20170815A08XFM00', '20170816A00KJG00', '20170819A00GMF00', '20170819A054E100', '20170820A01LIE00', '20170820A0200U00', '20170820A04PGP00', '20170820A04XV300', '20170821A013Z800', '20170821A01SZD00', '20170821A02SVW00', '20170821A035BE00', '20170821A08J6200'])"
      ]
     },
     "execution_count": 117,
     "metadata": {},
     "output_type": "execute_result"
    }
   ],
   "source": [
    "su_sampled_df_train.groupby(['article_id']).groups.keys()"
   ]
  },
  {
   "cell_type": "code",
   "execution_count": 123,
   "metadata": {
    "scrolled": true
   },
   "outputs": [
    {
     "data": {
      "text/html": [
       "<div>\n",
       "<style scoped>\n",
       "    .dataframe tbody tr th:only-of-type {\n",
       "        vertical-align: middle;\n",
       "    }\n",
       "\n",
       "    .dataframe tbody tr th {\n",
       "        vertical-align: top;\n",
       "    }\n",
       "\n",
       "    .dataframe thead th {\n",
       "        text-align: right;\n",
       "    }\n",
       "</style>\n",
       "<table border=\"1\" class=\"dataframe\">\n",
       "  <thead>\n",
       "    <tr style=\"text-align: right;\">\n",
       "      <th></th>\n",
       "      <th>article</th>\n",
       "      <th>article_id</th>\n",
       "      <th>comment</th>\n",
       "      <th>title</th>\n",
       "      <th>upvote</th>\n",
       "      <th>title_wb</th>\n",
       "      <th>article_wb</th>\n",
       "    </tr>\n",
       "  </thead>\n",
       "  <tbody>\n",
       "    <tr>\n",
       "      <th>69447</th>\n",
       "      <td>联盟每只球队都拥有自己的核心球员，他们在球队起着至关重要的作用，有的是自家培养的，还要的是花...</td>\n",
       "      <td>20170622A0082K00</td>\n",
       "      <td>还是 那句话   库里 到 哪 ， 心 就 到 哪 。</td>\n",
       "      <td>勇士高层拒绝库里顶薪要求，科尔：这对他不太公平</td>\n",
       "      <td>10</td>\n",
       "      <td>勇士 高层 拒绝 库里 顶薪 要求 ， 科尔 ： 这 对 他 不 太 公平</td>\n",
       "      <td>联盟 每 只 球队 都 拥有 自己 的 核心 球员 ， 他们 在 球队 起着 至关重要 的 ...</td>\n",
       "    </tr>\n",
       "    <tr>\n",
       "      <th>69448</th>\n",
       "      <td>联盟每只球队都拥有自己的核心球员，他们在球队起着至关重要的作用，有的是自家培养的，还要的是花...</td>\n",
       "      <td>20170622A0082K00</td>\n",
       "      <td>做 为 球迷 我 希望 库里 离开 勇士 ， 去 胡人 另建 王朝 ， 科尔 讲话 不谈 库...</td>\n",
       "      <td>勇士高层拒绝库里顶薪要求，科尔：这对他不太公平</td>\n",
       "      <td>15</td>\n",
       "      <td>勇士 高层 拒绝 库里 顶薪 要求 ， 科尔 ： 这 对 他 不 太 公平</td>\n",
       "      <td>联盟 每 只 球队 都 拥有 自己 的 核心 球员 ， 他们 在 球队 起着 至关重要 的 ...</td>\n",
       "    </tr>\n",
       "    <tr>\n",
       "      <th>69449</th>\n",
       "      <td>联盟每只球队都拥有自己的核心球员，他们在球队起着至关重要的作用，有的是自家培养的，还要的是花...</td>\n",
       "      <td>20170622A0082K00</td>\n",
       "      <td>其实 我 就是 喜欢 库里 而已 ， 库里 可以 去 湖人 和 马刺 ， 整个 赛季 下来 ...</td>\n",
       "      <td>勇士高层拒绝库里顶薪要求，科尔：这对他不太公平</td>\n",
       "      <td>20</td>\n",
       "      <td>勇士 高层 拒绝 库里 顶薪 要求 ， 科尔 ： 这 对 他 不 太 公平</td>\n",
       "      <td>联盟 每 只 球队 都 拥有 自己 的 核心 球员 ， 他们 在 球队 起着 至关重要 的 ...</td>\n",
       "    </tr>\n",
       "    <tr>\n",
       "      <th>74985</th>\n",
       "      <td>联盟每只球队都拥有自己的核心球员，他们在球队起着至关重要的作用，有的是自家培养的，还要的是花...</td>\n",
       "      <td>20170622A0082K00</td>\n",
       "      <td>false两个 都 很 好 很 美</td>\n",
       "      <td>勇士高层拒绝库里顶薪要求，科尔：这对他不太公平</td>\n",
       "      <td>1</td>\n",
       "      <td>勇士 高层 拒绝 库里 顶薪 要求 ， 科尔 ： 这 对 他 不 太 公平</td>\n",
       "      <td>联盟 每 只 球队 都 拥有 自己 的 核心 球员 ， 他们 在 球队 起着 至关重要 的 ...</td>\n",
       "    </tr>\n",
       "    <tr>\n",
       "      <th>18746</th>\n",
       "      <td>联盟每只球队都拥有自己的核心球员，他们在球队起着至关重要的作用，有的是自家培养的，还要的是花...</td>\n",
       "      <td>20170622A0082K00</td>\n",
       "      <td>false什么 科学家   文学家   企业家   这家 那 家   什么 从商 从政 从医...</td>\n",
       "      <td>勇士高层拒绝库里顶薪要求，科尔：这对他不太公平</td>\n",
       "      <td>1</td>\n",
       "      <td>勇士 高层 拒绝 库里 顶薪 要求 ， 科尔 ： 这 对 他 不 太 公平</td>\n",
       "      <td>联盟 每 只 球队 都 拥有 自己 的 核心 球员 ， 他们 在 球队 起着 至关重要 的 ...</td>\n",
       "    </tr>\n",
       "    <tr>\n",
       "      <th>51437</th>\n",
       "      <td>联盟每只球队都拥有自己的核心球员，他们在球队起着至关重要的作用，有的是自家培养的，还要的是花...</td>\n",
       "      <td>20170622A0082K00</td>\n",
       "      <td>false不负责任 的 人 浪费 了 人力物力</td>\n",
       "      <td>勇士高层拒绝库里顶薪要求，科尔：这对他不太公平</td>\n",
       "      <td>1</td>\n",
       "      <td>勇士 高层 拒绝 库里 顶薪 要求 ， 科尔 ： 这 对 他 不 太 公平</td>\n",
       "      <td>联盟 每 只 球队 都 拥有 自己 的 核心 球员 ， 他们 在 球队 起着 至关重要 的 ...</td>\n",
       "    </tr>\n",
       "  </tbody>\n",
       "</table>\n",
       "</div>"
      ],
      "text/plain": [
       "                                                 article        article_id  \\\n",
       "69447  联盟每只球队都拥有自己的核心球员，他们在球队起着至关重要的作用，有的是自家培养的，还要的是花...  20170622A0082K00   \n",
       "69448  联盟每只球队都拥有自己的核心球员，他们在球队起着至关重要的作用，有的是自家培养的，还要的是花...  20170622A0082K00   \n",
       "69449  联盟每只球队都拥有自己的核心球员，他们在球队起着至关重要的作用，有的是自家培养的，还要的是花...  20170622A0082K00   \n",
       "74985  联盟每只球队都拥有自己的核心球员，他们在球队起着至关重要的作用，有的是自家培养的，还要的是花...  20170622A0082K00   \n",
       "18746  联盟每只球队都拥有自己的核心球员，他们在球队起着至关重要的作用，有的是自家培养的，还要的是花...  20170622A0082K00   \n",
       "51437  联盟每只球队都拥有自己的核心球员，他们在球队起着至关重要的作用，有的是自家培养的，还要的是花...  20170622A0082K00   \n",
       "\n",
       "                                                 comment  \\\n",
       "69447                        还是 那句话   库里 到 哪 ， 心 就 到 哪 。   \n",
       "69448  做 为 球迷 我 希望 库里 离开 勇士 ， 去 胡人 另建 王朝 ， 科尔 讲话 不谈 库...   \n",
       "69449  其实 我 就是 喜欢 库里 而已 ， 库里 可以 去 湖人 和 马刺 ， 整个 赛季 下来 ...   \n",
       "74985                                  false两个 都 很 好 很 美   \n",
       "18746  false什么 科学家   文学家   企业家   这家 那 家   什么 从商 从政 从医...   \n",
       "51437                            false不负责任 的 人 浪费 了 人力物力   \n",
       "\n",
       "                         title  upvote                               title_wb  \\\n",
       "69447  勇士高层拒绝库里顶薪要求，科尔：这对他不太公平      10  勇士 高层 拒绝 库里 顶薪 要求 ， 科尔 ： 这 对 他 不 太 公平   \n",
       "69448  勇士高层拒绝库里顶薪要求，科尔：这对他不太公平      15  勇士 高层 拒绝 库里 顶薪 要求 ， 科尔 ： 这 对 他 不 太 公平   \n",
       "69449  勇士高层拒绝库里顶薪要求，科尔：这对他不太公平      20  勇士 高层 拒绝 库里 顶薪 要求 ， 科尔 ： 这 对 他 不 太 公平   \n",
       "74985  勇士高层拒绝库里顶薪要求，科尔：这对他不太公平       1  勇士 高层 拒绝 库里 顶薪 要求 ， 科尔 ： 这 对 他 不 太 公平   \n",
       "18746  勇士高层拒绝库里顶薪要求，科尔：这对他不太公平       1  勇士 高层 拒绝 库里 顶薪 要求 ， 科尔 ： 这 对 他 不 太 公平   \n",
       "51437  勇士高层拒绝库里顶薪要求，科尔：这对他不太公平       1  勇士 高层 拒绝 库里 顶薪 要求 ， 科尔 ： 这 对 他 不 太 公平   \n",
       "\n",
       "                                              article_wb  \n",
       "69447  联盟 每 只 球队 都 拥有 自己 的 核心 球员 ， 他们 在 球队 起着 至关重要 的 ...  \n",
       "69448  联盟 每 只 球队 都 拥有 自己 的 核心 球员 ， 他们 在 球队 起着 至关重要 的 ...  \n",
       "69449  联盟 每 只 球队 都 拥有 自己 的 核心 球员 ， 他们 在 球队 起着 至关重要 的 ...  \n",
       "74985  联盟 每 只 球队 都 拥有 自己 的 核心 球员 ， 他们 在 球队 起着 至关重要 的 ...  \n",
       "18746  联盟 每 只 球队 都 拥有 自己 的 核心 球员 ， 他们 在 球队 起着 至关重要 的 ...  \n",
       "51437  联盟 每 只 球队 都 拥有 自己 的 核心 球员 ， 他们 在 球队 起着 至关重要 的 ...  "
      ]
     },
     "execution_count": 123,
     "metadata": {},
     "output_type": "execute_result"
    }
   ],
   "source": [
    "su_sampled_df_train.groupby(['article_id']).get_group(\"20170622A0082K00\")"
   ]
  },
  {
   "cell_type": "code",
   "execution_count": 92,
   "metadata": {},
   "outputs": [],
   "source": [
    "su_grouped = cleaned_df_dev.groupby(['article_id'])"
   ]
  },
  {
   "cell_type": "code",
   "execution_count": 93,
   "metadata": {},
   "outputs": [
    {
     "data": {
      "text/plain": [
       "dict"
      ]
     },
     "execution_count": 93,
     "metadata": {},
     "output_type": "execute_result"
    }
   ],
   "source": [
    "type(su_grouped.groups)"
   ]
  },
  {
   "cell_type": "code",
   "execution_count": 45,
   "metadata": {},
   "outputs": [
    {
     "data": {
      "text/html": [
       "<div>\n",
       "<style scoped>\n",
       "    .dataframe tbody tr th:only-of-type {\n",
       "        vertical-align: middle;\n",
       "    }\n",
       "\n",
       "    .dataframe tbody tr th {\n",
       "        vertical-align: top;\n",
       "    }\n",
       "\n",
       "    .dataframe thead th {\n",
       "        text-align: right;\n",
       "    }\n",
       "</style>\n",
       "<table border=\"1\" class=\"dataframe\">\n",
       "  <thead>\n",
       "    <tr style=\"text-align: right;\">\n",
       "      <th></th>\n",
       "      <th>article</th>\n",
       "      <th>article_id</th>\n",
       "      <th>comment</th>\n",
       "      <th>title</th>\n",
       "      <th>upvote</th>\n",
       "      <th>title_wb</th>\n",
       "      <th>article_wb</th>\n",
       "    </tr>\n",
       "  </thead>\n",
       "  <tbody>\n",
       "    <tr>\n",
       "      <th>97045</th>\n",
       "      <td>持续关注！18日，华盛顿智库亚洲海事透明倡议(Asia Maritime Transpare...</td>\n",
       "      <td>20161118A07PK500</td>\n",
       "      <td>加大 越南 改变现状 的 全球 报道 ， 不要 等到 猴子 闹事 来 阻止 。 让 它 知道...</td>\n",
       "      <td>越南在南海岛礁建跑道，那些批评中国的人哪儿去了？</td>\n",
       "      <td>1</td>\n",
       "      <td>越南 在 南海 岛礁 建 跑道 ， 那些 批评 中国 的 人 哪儿 去 了 ？</td>\n",
       "      <td>持续 关注 ！ 18 日 ， 华盛顿 智库 亚洲 海事 透明 倡议 ( Asia   Mar...</td>\n",
       "    </tr>\n",
       "  </tbody>\n",
       "</table>\n",
       "</div>"
      ],
      "text/plain": [
       "                                                 article        article_id  \\\n",
       "97045  持续关注！18日，华盛顿智库亚洲海事透明倡议(Asia Maritime Transpare...  20161118A07PK500   \n",
       "\n",
       "                                                 comment  \\\n",
       "97045  加大 越南 改变现状 的 全球 报道 ， 不要 等到 猴子 闹事 来 阻止 。 让 它 知道...   \n",
       "\n",
       "                          title  upvote  \\\n",
       "97045  越南在南海岛礁建跑道，那些批评中国的人哪儿去了？       1   \n",
       "\n",
       "                                      title_wb  \\\n",
       "97045  越南 在 南海 岛礁 建 跑道 ， 那些 批评 中国 的 人 哪儿 去 了 ？   \n",
       "\n",
       "                                              article_wb  \n",
       "97045  持续 关注 ！ 18 日 ， 华盛顿 智库 亚洲 海事 透明 倡议 ( Asia   Mar...  "
      ]
     },
     "execution_count": 45,
     "metadata": {},
     "output_type": "execute_result"
    }
   ],
   "source": [
    "su_grouped.get_group(\"20161118A07PK500\").sample(n=1, random_state=1)[\"\"]"
   ]
  },
  {
   "cell_type": "code",
   "execution_count": 54,
   "metadata": {},
   "outputs": [
    {
     "name": "stdout",
     "output_type": "stream",
     "text": [
      "4434\n"
     ]
    },
    {
     "ename": "ValueError",
     "evalue": "Sample larger than population or is negative",
     "output_type": "error",
     "traceback": [
      "\u001b[1;31m---------------------------------------------------------------------------\u001b[0m",
      "\u001b[1;31mValueError\u001b[0m                                Traceback (most recent call last)",
      "\u001b[1;32m<ipython-input-54-6a77ceae19d3>\u001b[0m in \u001b[0;36m<module>\u001b[1;34m\u001b[0m\n\u001b[0;32m      1\u001b[0m \u001b[1;32mimport\u001b[0m \u001b[0mrandom\u001b[0m\u001b[1;33m\u001b[0m\u001b[1;33m\u001b[0m\u001b[0m\n\u001b[0;32m      2\u001b[0m \u001b[0mprint\u001b[0m\u001b[1;33m(\u001b[0m\u001b[0mlen\u001b[0m\u001b[1;33m(\u001b[0m\u001b[0msu_grouped\u001b[0m\u001b[1;33m.\u001b[0m\u001b[0mgroups\u001b[0m\u001b[1;33m.\u001b[0m\u001b[0mkeys\u001b[0m\u001b[1;33m(\u001b[0m\u001b[1;33m)\u001b[0m\u001b[1;33m)\u001b[0m\u001b[1;33m)\u001b[0m\u001b[1;33m\u001b[0m\u001b[1;33m\u001b[0m\u001b[0m\n\u001b[1;32m----> 3\u001b[1;33m \u001b[0mrandom\u001b[0m\u001b[1;33m.\u001b[0m\u001b[0msample\u001b[0m\u001b[1;33m(\u001b[0m\u001b[0msu_grouped\u001b[0m\u001b[1;33m.\u001b[0m\u001b[0mgroups\u001b[0m\u001b[1;33m.\u001b[0m\u001b[0mkeys\u001b[0m\u001b[1;33m(\u001b[0m\u001b[1;33m)\u001b[0m\u001b[1;33m,\u001b[0m \u001b[1;36m5000000000\u001b[0m\u001b[1;33m)\u001b[0m\u001b[1;33m\u001b[0m\u001b[1;33m\u001b[0m\u001b[0m\n\u001b[0m",
      "\u001b[1;32mD:\\software\\Anaconda3\\envs\\tf\\lib\\random.py\u001b[0m in \u001b[0;36msample\u001b[1;34m(self, population, k)\u001b[0m\n\u001b[0;32m    318\u001b[0m         \u001b[0mn\u001b[0m \u001b[1;33m=\u001b[0m \u001b[0mlen\u001b[0m\u001b[1;33m(\u001b[0m\u001b[0mpopulation\u001b[0m\u001b[1;33m)\u001b[0m\u001b[1;33m\u001b[0m\u001b[1;33m\u001b[0m\u001b[0m\n\u001b[0;32m    319\u001b[0m         \u001b[1;32mif\u001b[0m \u001b[1;32mnot\u001b[0m \u001b[1;36m0\u001b[0m \u001b[1;33m<=\u001b[0m \u001b[0mk\u001b[0m \u001b[1;33m<=\u001b[0m \u001b[0mn\u001b[0m\u001b[1;33m:\u001b[0m\u001b[1;33m\u001b[0m\u001b[1;33m\u001b[0m\u001b[0m\n\u001b[1;32m--> 320\u001b[1;33m             \u001b[1;32mraise\u001b[0m \u001b[0mValueError\u001b[0m\u001b[1;33m(\u001b[0m\u001b[1;34m\"Sample larger than population or is negative\"\u001b[0m\u001b[1;33m)\u001b[0m\u001b[1;33m\u001b[0m\u001b[1;33m\u001b[0m\u001b[0m\n\u001b[0m\u001b[0;32m    321\u001b[0m         \u001b[0mresult\u001b[0m \u001b[1;33m=\u001b[0m \u001b[1;33m[\u001b[0m\u001b[1;32mNone\u001b[0m\u001b[1;33m]\u001b[0m \u001b[1;33m*\u001b[0m \u001b[0mk\u001b[0m\u001b[1;33m\u001b[0m\u001b[1;33m\u001b[0m\u001b[0m\n\u001b[0;32m    322\u001b[0m         \u001b[0msetsize\u001b[0m \u001b[1;33m=\u001b[0m \u001b[1;36m21\u001b[0m        \u001b[1;31m# size of a small set minus size of an empty list\u001b[0m\u001b[1;33m\u001b[0m\u001b[1;33m\u001b[0m\u001b[0m\n",
      "\u001b[1;31mValueError\u001b[0m: Sample larger than population or is negative"
     ]
    }
   ],
   "source": [
    "import random\n",
    "print(len(su_grouped.groups.keys()))\n",
    "random.sample(su_grouped.groups.keys(), 5000000000)"
   ]
  },
  {
   "cell_type": "code",
   "execution_count": null,
   "metadata": {},
   "outputs": [],
   "source": []
  },
  {
   "cell_type": "code",
   "execution_count": 67,
   "metadata": {},
   "outputs": [
    {
     "data": {
      "text/plain": [
       "[1, 2, 3, 4]"
      ]
     },
     "execution_count": 67,
     "metadata": {},
     "output_type": "execute_result"
    }
   ],
   "source": [
    "a = [1,2,3,4]\n",
    "xx = 9\n",
    "\n",
    "if xx in a:\n",
    "    \n",
    "    a.remove(xx)\n",
    "a\n",
    "# a.remove(1)\n",
    "# print(a)"
   ]
  },
  {
   "cell_type": "code",
   "execution_count": 4,
   "metadata": {},
   "outputs": [
    {
     "data": {
      "text/plain": [
       "300"
      ]
     },
     "execution_count": 4,
     "metadata": {},
     "output_type": "execute_result"
    }
   ],
   "source": [
    "import numpy as np\n",
    "a = np.random.randn(300).tolist()\n",
    "len(a)"
   ]
  },
  {
   "cell_type": "code",
   "execution_count": null,
   "metadata": {},
   "outputs": [],
   "source": []
  }
 ],
 "metadata": {
  "kernelspec": {
   "display_name": "Python 3",
   "language": "python",
   "name": "python3"
  },
  "language_info": {
   "codemirror_mode": {
    "name": "ipython",
    "version": 3
   },
   "file_extension": ".py",
   "mimetype": "text/x-python",
   "name": "python",
   "nbconvert_exporter": "python",
   "pygments_lexer": "ipython3",
   "version": "3.7.3"
  }
 },
 "nbformat": 4,
 "nbformat_minor": 2
}
